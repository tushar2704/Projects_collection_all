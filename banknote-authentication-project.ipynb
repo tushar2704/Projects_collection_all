{
 "cells": [
  {
   "cell_type": "markdown",
   "id": "a1e69321",
   "metadata": {
    "papermill": {
     "duration": 0.001795,
     "end_time": "2022-12-05T04:31:57.932736",
     "exception": false,
     "start_time": "2022-12-05T04:31:57.930941",
     "status": "completed"
    },
    "tags": []
   },
   "source": [
    "github.com/tushar2704,kaggle.com/tusharaggarwal27, linkedin.com/in/tusharaggarwalinseec"
   ]
  },
  {
   "cell_type": "code",
   "execution_count": null,
   "id": "9063456d",
   "metadata": {
    "papermill": {
     "duration": 0.000858,
     "end_time": "2022-12-05T04:31:57.934808",
     "exception": false,
     "start_time": "2022-12-05T04:31:57.933950",
     "status": "completed"
    },
    "tags": []
   },
   "outputs": [],
   "source": []
  }
 ],
 "metadata": {
  "kernelspec": {
   "display_name": "Python 3",
   "language": "python",
   "name": "python3"
  },
  "language_info": {
   "codemirror_mode": {
    "name": "ipython",
    "version": 3
   },
   "file_extension": ".py",
   "mimetype": "text/x-python",
   "name": "python",
   "nbconvert_exporter": "python",
   "pygments_lexer": "ipython3",
   "version": "3.7.12"
  },
  "papermill": {
   "default_parameters": {},
   "duration": 9.902983,
   "end_time": "2022-12-05T04:32:01.163806",
   "environment_variables": {},
   "exception": null,
   "input_path": "__notebook__.ipynb",
   "output_path": "__notebook__.ipynb",
   "parameters": {},
   "start_time": "2022-12-05T04:31:51.260823",
   "version": "2.3.4"
  }
 },
 "nbformat": 4,
 "nbformat_minor": 5
}
