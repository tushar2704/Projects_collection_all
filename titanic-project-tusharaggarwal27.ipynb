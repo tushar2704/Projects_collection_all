{
 "cells": [
  {
   "cell_type": "code",
   "execution_count": 1,
   "id": "7e9b33dc",
   "metadata": {
    "_cell_guid": "b1076dfc-b9ad-4769-8c92-a6c4dae69d19",
    "_kg_hide-input": true,
    "_kg_hide-output": true,
    "_uuid": "8f2839f25d086af736a60e9eeb907d3b93b6e0e5",
    "execution": {
     "iopub.execute_input": "2022-11-27T18:34:58.636668Z",
     "iopub.status.busy": "2022-11-27T18:34:58.636189Z",
     "iopub.status.idle": "2022-11-27T18:34:58.650926Z",
     "shell.execute_reply": "2022-11-27T18:34:58.649622Z"
    },
    "papermill": {
     "duration": 0.025448,
     "end_time": "2022-11-27T18:34:58.653934",
     "exception": false,
     "start_time": "2022-11-27T18:34:58.628486",
     "status": "completed"
    },
    "tags": []
   },
   "outputs": [
    {
     "name": "stdout",
     "output_type": "stream",
     "text": [
      "/kaggle/input/titanic/train.csv\n",
      "/kaggle/input/titanic/test.csv\n",
      "/kaggle/input/titanic/gender_submission.csv\n"
     ]
    }
   ],
   "source": [
    "#github.com/tushar2704,kaggle.com/tusharaggarwal27, linkedin.com/in/tusharaggarwalinseec\n",
    "# This Python 3 environment comes with many helpful analytics libraries installed\n",
    "# It is defined by the kaggle/python Docker image: https://github.com/kaggle/docker-python\n",
    "# For example, here's several helpful packages to load\n",
    "\n",
    "import numpy as np # linear algebra\n",
    "import pandas as pd # data processing, CSV file I/O (e.g. pd.read_csv)\n",
    "\n",
    "# Input data files are available in the read-only \"../input/\" directory\n",
    "# For example, running this (by clicking run or pressing Shift+Enter) will list all files under the input directory\n",
    "\n",
    "import os\n",
    "for dirname, _, filenames in os.walk('/kaggle/input'):\n",
    "    for filename in filenames:\n",
    "        print(os.path.join(dirname, filename))\n",
    "\n",
    "# You can write up to 20GB to the current directory (/kaggle/working/) that gets preserved as output when you create a version using \"Save & Run All\" \n",
    "# You can also write temporary files to /kaggle/temp/, but they won't be saved outside of the current session"
   ]
  },
  {
   "cell_type": "markdown",
   "id": "87ce55ac",
   "metadata": {
    "papermill": {
     "duration": 0.004624,
     "end_time": "2022-11-27T18:34:58.664261",
     "exception": false,
     "start_time": "2022-11-27T18:34:58.659637",
     "status": "completed"
    },
    "tags": []
   },
   "source": [
    "# Titanic Project:©github.com/tushar2704,©kaggle.com/tusharaggarwal27, ©linkedin.com/in/tusharaggarwalinseec\n",
    "In this notebook The goal is to correctly predict if someone survived the Titanic shipwreck.\n"
   ]
  },
  {
   "cell_type": "markdown",
   "id": "97d1c63e",
   "metadata": {
    "execution": {
     "iopub.execute_input": "2022-11-27T14:30:19.552456Z",
     "iopub.status.busy": "2022-11-27T14:30:19.552088Z",
     "iopub.status.idle": "2022-11-27T14:30:19.578458Z",
     "shell.execute_reply": "2022-11-27T14:30:19.577415Z",
     "shell.execute_reply.started": "2022-11-27T14:30:19.552384Z"
    },
    "papermill": {
     "duration": 0.004348,
     "end_time": "2022-11-27T18:34:58.673511",
     "exception": false,
     "start_time": "2022-11-27T18:34:58.669163",
     "status": "completed"
    },
    "tags": []
   },
   "source": [
    "**Best results :  % accuracy ()**\n",
    "\n",
    "**Overview\n",
    "1) Understand the shape of the data (Histograms, box plots, etc.)\n",
    "\n",
    "2) Data Cleaning\n",
    "\n",
    "3) Data Exploration\n",
    "\n",
    "4) Feature Engineering\n",
    "\n",
    "5) Data Preprocessing for Model\n",
    "\n",
    "6) Basic Model Building\n",
    "\n",
    "7) Model Tuning\n",
    "\n",
    "8) Ensemble Modle Building\n",
    "\n",
    "9) Results**\n"
   ]
  },
  {
   "cell_type": "code",
   "execution_count": 2,
   "id": "5f871b99",
   "metadata": {
    "execution": {
     "iopub.execute_input": "2022-11-27T18:34:58.684833Z",
     "iopub.status.busy": "2022-11-27T18:34:58.684451Z",
     "iopub.status.idle": "2022-11-27T18:34:59.821458Z",
     "shell.execute_reply": "2022-11-27T18:34:59.820475Z"
    },
    "papermill": {
     "duration": 1.146045,
     "end_time": "2022-11-27T18:34:59.824188",
     "exception": false,
     "start_time": "2022-11-27T18:34:58.678143",
     "status": "completed"
    },
    "tags": []
   },
   "outputs": [],
   "source": [
    "#github.com/tushar2704,kaggle.com/tusharaggarwal27, linkedin.com/in/tusharaggarwalinseec\n",
    "#importing the required liabraries\n",
    "\n",
    "import numpy as np\n",
    "import pandas as pd\n",
    "import matplotlib.pyplot as plt\n",
    "import seaborn as sns\n",
    "%matplotlib inline"
   ]
  },
  {
   "cell_type": "code",
   "execution_count": 3,
   "id": "cecb179d",
   "metadata": {
    "execution": {
     "iopub.execute_input": "2022-11-27T18:34:59.836827Z",
     "iopub.status.busy": "2022-11-27T18:34:59.835787Z",
     "iopub.status.idle": "2022-11-27T18:34:59.867742Z",
     "shell.execute_reply": "2022-11-27T18:34:59.866562Z"
    },
    "papermill": {
     "duration": 0.041523,
     "end_time": "2022-11-27T18:34:59.870818",
     "exception": false,
     "start_time": "2022-11-27T18:34:59.829295",
     "status": "completed"
    },
    "tags": []
   },
   "outputs": [],
   "source": [
    "#github.com/tushar2704,kaggle.com/tusharaggarwal27, linkedin.com/in/tusharaggarwalinseec\n",
    "#Importing the required data\n",
    "\n",
    "train_data = pd.read_csv('/kaggle/input/titanic/train.csv')\n",
    "test_data = pd.read_csv('/kaggle/input/titanic/test.csv')"
   ]
  },
  {
   "cell_type": "code",
   "execution_count": 4,
   "id": "18239fe1",
   "metadata": {
    "execution": {
     "iopub.execute_input": "2022-11-27T18:34:59.882512Z",
     "iopub.status.busy": "2022-11-27T18:34:59.882052Z",
     "iopub.status.idle": "2022-11-27T18:34:59.907064Z",
     "shell.execute_reply": "2022-11-27T18:34:59.905410Z"
    },
    "papermill": {
     "duration": 0.033966,
     "end_time": "2022-11-27T18:34:59.909814",
     "exception": false,
     "start_time": "2022-11-27T18:34:59.875848",
     "status": "completed"
    },
    "tags": []
   },
   "outputs": [
    {
     "name": "stdout",
     "output_type": "stream",
     "text": [
      "   PassengerId  Survived  Pclass  \\\n",
      "0            1         0       3   \n",
      "1            2         1       1   \n",
      "2            3         1       3   \n",
      "3            4         1       1   \n",
      "4            5         0       3   \n",
      "\n",
      "                                                Name     Sex   Age  SibSp  \\\n",
      "0                            Braund, Mr. Owen Harris    male  22.0      1   \n",
      "1  Cumings, Mrs. John Bradley (Florence Briggs Th...  female  38.0      1   \n",
      "2                             Heikkinen, Miss. Laina  female  26.0      0   \n",
      "3       Futrelle, Mrs. Jacques Heath (Lily May Peel)  female  35.0      1   \n",
      "4                           Allen, Mr. William Henry    male  35.0      0   \n",
      "\n",
      "   Parch            Ticket     Fare Cabin Embarked  \n",
      "0      0         A/5 21171   7.2500   NaN        S  \n",
      "1      0          PC 17599  71.2833   C85        C  \n",
      "2      0  STON/O2. 3101282   7.9250   NaN        S  \n",
      "3      0            113803  53.1000  C123        S  \n",
      "4      0            373450   8.0500   NaN        S  \n",
      "   PassengerId  Pclass                                          Name     Sex  \\\n",
      "0          892       3                              Kelly, Mr. James    male   \n",
      "1          893       3              Wilkes, Mrs. James (Ellen Needs)  female   \n",
      "2          894       2                     Myles, Mr. Thomas Francis    male   \n",
      "3          895       3                              Wirz, Mr. Albert    male   \n",
      "4          896       3  Hirvonen, Mrs. Alexander (Helga E Lindqvist)  female   \n",
      "\n",
      "    Age  SibSp  Parch   Ticket     Fare Cabin Embarked  \n",
      "0  34.5      0      0   330911   7.8292   NaN        Q  \n",
      "1  47.0      1      0   363272   7.0000   NaN        S  \n",
      "2  62.0      0      0   240276   9.6875   NaN        Q  \n",
      "3  27.0      0      0   315154   8.6625   NaN        S  \n",
      "4  22.0      1      1  3101298  12.2875   NaN        S  \n"
     ]
    },
    {
     "data": {
      "text/plain": [
       "(None, None)"
      ]
     },
     "execution_count": 4,
     "metadata": {},
     "output_type": "execute_result"
    }
   ],
   "source": [
    "#github.com/tushar2704,kaggle.com/tusharaggarwal27, linkedin.com/in/tusharaggarwalinseec\n",
    "#Checking the read data\n",
    "\n",
    "print(train_data.head()), print(test_data.head())"
   ]
  },
  {
   "cell_type": "code",
   "execution_count": 5,
   "id": "189e0a77",
   "metadata": {
    "execution": {
     "iopub.execute_input": "2022-11-27T18:34:59.922077Z",
     "iopub.status.busy": "2022-11-27T18:34:59.921573Z",
     "iopub.status.idle": "2022-11-27T18:34:59.930505Z",
     "shell.execute_reply": "2022-11-27T18:34:59.928025Z"
    },
    "papermill": {
     "duration": 0.020576,
     "end_time": "2022-11-27T18:34:59.935632",
     "exception": false,
     "start_time": "2022-11-27T18:34:59.915056",
     "status": "completed"
    },
    "tags": []
   },
   "outputs": [
    {
     "name": "stdout",
     "output_type": "stream",
     "text": [
      "(891, 12)\n",
      "(418, 11)\n"
     ]
    },
    {
     "data": {
      "text/plain": [
       "(None, None)"
      ]
     },
     "execution_count": 5,
     "metadata": {},
     "output_type": "execute_result"
    }
   ],
   "source": [
    "#github.com/tushar2704,kaggle.com/tusharaggarwal27, linkedin.com/in/tusharaggarwalinseec\n",
    "print(train_data.shape),print(test_data.shape) "
   ]
  },
  {
   "cell_type": "code",
   "execution_count": 6,
   "id": "459dd35e",
   "metadata": {
    "execution": {
     "iopub.execute_input": "2022-11-27T18:34:59.950248Z",
     "iopub.status.busy": "2022-11-27T18:34:59.949092Z",
     "iopub.status.idle": "2022-11-27T18:34:59.956937Z",
     "shell.execute_reply": "2022-11-27T18:34:59.956022Z"
    },
    "papermill": {
     "duration": 0.01703,
     "end_time": "2022-11-27T18:34:59.959080",
     "exception": false,
     "start_time": "2022-11-27T18:34:59.942050",
     "status": "completed"
    },
    "tags": []
   },
   "outputs": [
    {
     "name": "stdout",
     "output_type": "stream",
     "text": [
      "Index(['PassengerId', 'Survived', 'Pclass', 'Name', 'Sex', 'Age', 'SibSp',\n",
      "       'Parch', 'Ticket', 'Fare', 'Cabin', 'Embarked'],\n",
      "      dtype='object')\n",
      "Index(['PassengerId', 'Pclass', 'Name', 'Sex', 'Age', 'SibSp', 'Parch',\n",
      "       'Ticket', 'Fare', 'Cabin', 'Embarked'],\n",
      "      dtype='object')\n"
     ]
    },
    {
     "data": {
      "text/plain": [
       "(None, None)"
      ]
     },
     "execution_count": 6,
     "metadata": {},
     "output_type": "execute_result"
    }
   ],
   "source": [
    "#github.com/tushar2704,kaggle.com/tusharaggarwal27, linkedin.com/in/tusharaggarwalinseec\n",
    "print(train_data.columns), print(test_data.columns)"
   ]
  },
  {
   "cell_type": "markdown",
   "id": "dd614deb",
   "metadata": {
    "papermill": {
     "duration": 0.005226,
     "end_time": "2022-11-27T18:34:59.970000",
     "exception": false,
     "start_time": "2022-11-27T18:34:59.964774",
     "status": "completed"
    },
    "tags": []
   },
   "source": [
    "# Project Planning #github.com/tushar2704,kaggle.com/tusharaggarwal27, linkedin.com/in/tusharaggarwalinseec\n"
   ]
  },
  {
   "cell_type": "markdown",
   "id": "7124d4b9",
   "metadata": {
    "papermill": {
     "duration": 0.005325,
     "end_time": "2022-11-27T18:34:59.980998",
     "exception": false,
     "start_time": "2022-11-27T18:34:59.975673",
     "status": "completed"
    },
    "tags": []
   },
   "source": [
    "### Steps used for this project\n",
    "#### Understand nature of the data .info() .describe()\n",
    "#### Histograms and boxplots \n",
    "#### Value counts \n",
    "#### Missing data \n",
    "#### Correlation between the metrics \n",
    "#### Explore interesting themes \n",
    "#### Wealthy survive? \n",
    "#### By location \n",
    "#### Age scatterplot with ticket price \n",
    "#### Young and wealthy Variable? \n",
    "#### Total spent? \n",
    "#### Feature engineering \n",
    "#### preprocess data together or use a transformer? \n",
    "#### use label for train and test   \n",
    "#### Scaling?\n",
    "#### Model Baseline \n",
    "#### Model comparison with CV "
   ]
  },
  {
   "cell_type": "code",
   "execution_count": 7,
   "id": "c299da6d",
   "metadata": {
    "execution": {
     "iopub.execute_input": "2022-11-27T18:34:59.994219Z",
     "iopub.status.busy": "2022-11-27T18:34:59.993497Z",
     "iopub.status.idle": "2022-11-27T18:35:00.024459Z",
     "shell.execute_reply": "2022-11-27T18:35:00.022631Z"
    },
    "papermill": {
     "duration": 0.041182,
     "end_time": "2022-11-27T18:35:00.027649",
     "exception": false,
     "start_time": "2022-11-27T18:34:59.986467",
     "status": "completed"
    },
    "tags": []
   },
   "outputs": [
    {
     "name": "stdout",
     "output_type": "stream",
     "text": [
      "<class 'pandas.core.frame.DataFrame'>\n",
      "RangeIndex: 891 entries, 0 to 890\n",
      "Data columns (total 12 columns):\n",
      " #   Column       Non-Null Count  Dtype  \n",
      "---  ------       --------------  -----  \n",
      " 0   PassengerId  891 non-null    int64  \n",
      " 1   Survived     891 non-null    int64  \n",
      " 2   Pclass       891 non-null    int64  \n",
      " 3   Name         891 non-null    object \n",
      " 4   Sex          891 non-null    object \n",
      " 5   Age          714 non-null    float64\n",
      " 6   SibSp        891 non-null    int64  \n",
      " 7   Parch        891 non-null    int64  \n",
      " 8   Ticket       891 non-null    object \n",
      " 9   Fare         891 non-null    float64\n",
      " 10  Cabin        204 non-null    object \n",
      " 11  Embarked     889 non-null    object \n",
      "dtypes: float64(2), int64(5), object(5)\n",
      "memory usage: 83.7+ KB\n",
      "None\n"
     ]
    }
   ],
   "source": [
    "#github.com/tushar2704,kaggle.com/tusharaggarwal27, linkedin.com/in/tusharaggarwalinseec\n",
    "#Understand nature of the data .info() .describe()\n",
    "\n",
    "print(train_data.info())"
   ]
  },
  {
   "cell_type": "markdown",
   "id": "7ebd7781",
   "metadata": {
    "execution": {
     "iopub.execute_input": "2022-11-27T14:47:51.670959Z",
     "iopub.status.busy": "2022-11-27T14:47:51.670657Z",
     "iopub.status.idle": "2022-11-27T14:47:51.675094Z",
     "shell.execute_reply": "2022-11-27T14:47:51.674129Z",
     "shell.execute_reply.started": "2022-11-27T14:47:51.670936Z"
    },
    "papermill": {
     "duration": 0.005126,
     "end_time": "2022-11-27T18:35:00.038479",
     "exception": false,
     "start_time": "2022-11-27T18:35:00.033353",
     "status": "completed"
    },
    "tags": []
   },
   "source": [
    "### Notes : Column-'Age','Cabin' &'Embarked' has missing values\n",
    "### Total 891 rows of data with 12 features\n",
    "### "
   ]
  },
  {
   "cell_type": "code",
   "execution_count": 8,
   "id": "f958e7f6",
   "metadata": {
    "execution": {
     "iopub.execute_input": "2022-11-27T18:35:00.051661Z",
     "iopub.status.busy": "2022-11-27T18:35:00.051218Z",
     "iopub.status.idle": "2022-11-27T18:35:00.096603Z",
     "shell.execute_reply": "2022-11-27T18:35:00.095057Z"
    },
    "papermill": {
     "duration": 0.055963,
     "end_time": "2022-11-27T18:35:00.100026",
     "exception": false,
     "start_time": "2022-11-27T18:35:00.044063",
     "status": "completed"
    },
    "tags": []
   },
   "outputs": [
    {
     "data": {
      "text/html": [
       "<div>\n",
       "<style scoped>\n",
       "    .dataframe tbody tr th:only-of-type {\n",
       "        vertical-align: middle;\n",
       "    }\n",
       "\n",
       "    .dataframe tbody tr th {\n",
       "        vertical-align: top;\n",
       "    }\n",
       "\n",
       "    .dataframe thead th {\n",
       "        text-align: right;\n",
       "    }\n",
       "</style>\n",
       "<table border=\"1\" class=\"dataframe\">\n",
       "  <thead>\n",
       "    <tr style=\"text-align: right;\">\n",
       "      <th></th>\n",
       "      <th>PassengerId</th>\n",
       "      <th>Survived</th>\n",
       "      <th>Pclass</th>\n",
       "      <th>Age</th>\n",
       "      <th>SibSp</th>\n",
       "      <th>Parch</th>\n",
       "      <th>Fare</th>\n",
       "    </tr>\n",
       "  </thead>\n",
       "  <tbody>\n",
       "    <tr>\n",
       "      <th>count</th>\n",
       "      <td>891.000000</td>\n",
       "      <td>891.000000</td>\n",
       "      <td>891.000000</td>\n",
       "      <td>714.000000</td>\n",
       "      <td>891.000000</td>\n",
       "      <td>891.000000</td>\n",
       "      <td>891.000000</td>\n",
       "    </tr>\n",
       "    <tr>\n",
       "      <th>mean</th>\n",
       "      <td>446.000000</td>\n",
       "      <td>0.383838</td>\n",
       "      <td>2.308642</td>\n",
       "      <td>29.699118</td>\n",
       "      <td>0.523008</td>\n",
       "      <td>0.381594</td>\n",
       "      <td>32.204208</td>\n",
       "    </tr>\n",
       "    <tr>\n",
       "      <th>std</th>\n",
       "      <td>257.353842</td>\n",
       "      <td>0.486592</td>\n",
       "      <td>0.836071</td>\n",
       "      <td>14.526497</td>\n",
       "      <td>1.102743</td>\n",
       "      <td>0.806057</td>\n",
       "      <td>49.693429</td>\n",
       "    </tr>\n",
       "    <tr>\n",
       "      <th>min</th>\n",
       "      <td>1.000000</td>\n",
       "      <td>0.000000</td>\n",
       "      <td>1.000000</td>\n",
       "      <td>0.420000</td>\n",
       "      <td>0.000000</td>\n",
       "      <td>0.000000</td>\n",
       "      <td>0.000000</td>\n",
       "    </tr>\n",
       "    <tr>\n",
       "      <th>25%</th>\n",
       "      <td>223.500000</td>\n",
       "      <td>0.000000</td>\n",
       "      <td>2.000000</td>\n",
       "      <td>20.125000</td>\n",
       "      <td>0.000000</td>\n",
       "      <td>0.000000</td>\n",
       "      <td>7.910400</td>\n",
       "    </tr>\n",
       "    <tr>\n",
       "      <th>50%</th>\n",
       "      <td>446.000000</td>\n",
       "      <td>0.000000</td>\n",
       "      <td>3.000000</td>\n",
       "      <td>28.000000</td>\n",
       "      <td>0.000000</td>\n",
       "      <td>0.000000</td>\n",
       "      <td>14.454200</td>\n",
       "    </tr>\n",
       "    <tr>\n",
       "      <th>75%</th>\n",
       "      <td>668.500000</td>\n",
       "      <td>1.000000</td>\n",
       "      <td>3.000000</td>\n",
       "      <td>38.000000</td>\n",
       "      <td>1.000000</td>\n",
       "      <td>0.000000</td>\n",
       "      <td>31.000000</td>\n",
       "    </tr>\n",
       "    <tr>\n",
       "      <th>max</th>\n",
       "      <td>891.000000</td>\n",
       "      <td>1.000000</td>\n",
       "      <td>3.000000</td>\n",
       "      <td>80.000000</td>\n",
       "      <td>8.000000</td>\n",
       "      <td>6.000000</td>\n",
       "      <td>512.329200</td>\n",
       "    </tr>\n",
       "  </tbody>\n",
       "</table>\n",
       "</div>"
      ],
      "text/plain": [
       "       PassengerId    Survived      Pclass         Age       SibSp  \\\n",
       "count   891.000000  891.000000  891.000000  714.000000  891.000000   \n",
       "mean    446.000000    0.383838    2.308642   29.699118    0.523008   \n",
       "std     257.353842    0.486592    0.836071   14.526497    1.102743   \n",
       "min       1.000000    0.000000    1.000000    0.420000    0.000000   \n",
       "25%     223.500000    0.000000    2.000000   20.125000    0.000000   \n",
       "50%     446.000000    0.000000    3.000000   28.000000    0.000000   \n",
       "75%     668.500000    1.000000    3.000000   38.000000    1.000000   \n",
       "max     891.000000    1.000000    3.000000   80.000000    8.000000   \n",
       "\n",
       "            Parch        Fare  \n",
       "count  891.000000  891.000000  \n",
       "mean     0.381594   32.204208  \n",
       "std      0.806057   49.693429  \n",
       "min      0.000000    0.000000  \n",
       "25%      0.000000    7.910400  \n",
       "50%      0.000000   14.454200  \n",
       "75%      0.000000   31.000000  \n",
       "max      6.000000  512.329200  "
      ]
     },
     "execution_count": 8,
     "metadata": {},
     "output_type": "execute_result"
    }
   ],
   "source": [
    "#github.com/tushar2704,kaggle.com/tusharaggarwal27, linkedin.com/in/tusharaggarwalinseec\n",
    "# to better understand the numeric data, we want to use the .describe() method. This gives us an understanding of the central tendencies of the data\n",
    "train_data.describe()"
   ]
  },
  {
   "cell_type": "markdown",
   "id": "73d1e34d",
   "metadata": {
    "papermill": {
     "duration": 0.005498,
     "end_time": "2022-11-27T18:35:00.111860",
     "exception": false,
     "start_time": "2022-11-27T18:35:00.106362",
     "status": "completed"
    },
    "tags": []
   },
   "source": [
    "Light Data Exploration\n",
    "1) For numeric data,\n",
    "Made histograms to understand distributions,\n",
    "Corrplot,\n",
    "Pivot table comparing survival rate across numeric variables\n",
    "\n",
    "2) For Categorical Data,\n",
    "Made bar charts to understand balance of classes,\n",
    "Made pivot tables to understand relationship with survival"
   ]
  },
  {
   "cell_type": "code",
   "execution_count": 9,
   "id": "1f2d0761",
   "metadata": {
    "execution": {
     "iopub.execute_input": "2022-11-27T18:35:00.125793Z",
     "iopub.status.busy": "2022-11-27T18:35:00.125300Z",
     "iopub.status.idle": "2022-11-27T18:35:00.154074Z",
     "shell.execute_reply": "2022-11-27T18:35:00.152833Z"
    },
    "papermill": {
     "duration": 0.039346,
     "end_time": "2022-11-27T18:35:00.157176",
     "exception": false,
     "start_time": "2022-11-27T18:35:00.117830",
     "status": "completed"
    },
    "tags": []
   },
   "outputs": [
    {
     "data": {
      "text/plain": [
       "Index(['PassengerId', 'Survived', 'Pclass', 'Age', 'SibSp', 'Parch', 'Fare'], dtype='object')"
      ]
     },
     "execution_count": 9,
     "metadata": {},
     "output_type": "execute_result"
    }
   ],
   "source": [
    "#github.com/tushar2704,kaggle.com/tusharaggarwal27, linkedin.com/in/tusharaggarwalinseec\n",
    "#Separating numeric columns\n",
    "numeric = train_data.describe().columns\n",
    "numeric"
   ]
  },
  {
   "cell_type": "code",
   "execution_count": 10,
   "id": "3c08af58",
   "metadata": {
    "execution": {
     "iopub.execute_input": "2022-11-27T18:35:00.172718Z",
     "iopub.status.busy": "2022-11-27T18:35:00.171883Z",
     "iopub.status.idle": "2022-11-27T18:35:00.179094Z",
     "shell.execute_reply": "2022-11-27T18:35:00.177924Z"
    },
    "papermill": {
     "duration": 0.017248,
     "end_time": "2022-11-27T18:35:00.181744",
     "exception": false,
     "start_time": "2022-11-27T18:35:00.164496",
     "status": "completed"
    },
    "tags": []
   },
   "outputs": [],
   "source": [
    "#github.com/tushar2704,kaggle.com/tusharaggarwal27, linkedin.com/in/tusharaggarwalinseec\n",
    "#numeric and categorical values separately \n",
    "\n",
    "train_data_num = train_data[['Age','SibSp','Parch','Fare']]\n",
    "train_data_cat = train_data[['Survived','Pclass','Sex','Ticket','Cabin','Embarked']]"
   ]
  },
  {
   "cell_type": "code",
   "execution_count": 11,
   "id": "be04fc47",
   "metadata": {
    "execution": {
     "iopub.execute_input": "2022-11-27T18:35:00.195769Z",
     "iopub.status.busy": "2022-11-27T18:35:00.195076Z",
     "iopub.status.idle": "2022-11-27T18:35:00.907761Z",
     "shell.execute_reply": "2022-11-27T18:35:00.906629Z"
    },
    "papermill": {
     "duration": 0.723275,
     "end_time": "2022-11-27T18:35:00.911167",
     "exception": false,
     "start_time": "2022-11-27T18:35:00.187892",
     "status": "completed"
    },
    "tags": []
   },
   "outputs": [
    {
     "data": {
      "image/png": "[encoded data removed]",
      "text/plain": [
       "<Figure size 720x360 with 1 Axes>"
      ]
     },
     "metadata": {},
     "output_type": "display_data"
    }
   ],
   "source": [
    "#github.com/tushar2704,kaggle.com/tusharaggarwal27, linkedin.com/in/tusharaggarwalinseec\n",
    "#distributions(histograms) for all numeric variables \n",
    "\n",
    "sns.set_style(\"whitegrid\")\n",
    "distributions = sns.lmplot(x='Age', y='Fare', data=train_data_num, aspect=2)"
   ]
  },
  {
   "cell_type": "code",
   "execution_count": null,
   "id": "3cc0241e",
   "metadata": {
    "papermill": {
     "duration": 0.006412,
     "end_time": "2022-11-27T18:35:00.924126",
     "exception": false,
     "start_time": "2022-11-27T18:35:00.917714",
     "status": "completed"
    },
    "tags": []
   },
   "outputs": [],
   "source": []
  }
 ],
 "metadata": {
  "kernelspec": {
   "display_name": "Python 3",
   "language": "python",
   "name": "python3"
  },
  "language_info": {
   "codemirror_mode": {
    "name": "ipython",
    "version": 3
   },
   "file_extension": ".py",
   "mimetype": "text/x-python",
   "name": "python",
   "nbconvert_exporter": "python",
   "pygments_lexer": "ipython3",
   "version": "3.7.12"
  },
  "papermill": {
   "default_parameters": {},
   "duration": 14.043999,
   "end_time": "2022-11-27T18:35:01.754810",
   "environment_variables": {},
   "exception": null,
   "input_path": "__notebook__.ipynb",
   "output_path": "__notebook__.ipynb",
   "parameters": {},
   "start_time": "2022-11-27T18:34:47.710811",
   "version": "2.3.4"
  }
 },
 "nbformat": 4,
 "nbformat_minor": 5
}
