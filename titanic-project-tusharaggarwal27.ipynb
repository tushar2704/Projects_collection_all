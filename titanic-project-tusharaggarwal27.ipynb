{
 "cells": [
  {
   "cell_type": "code",
   "execution_count": 1,
   "id": "932c6ae6",
   "metadata": {
    "_cell_guid": "b1076dfc-b9ad-4769-8c92-a6c4dae69d19",
    "_kg_hide-input": true,
    "_kg_hide-output": true,
    "_uuid": "8f2839f25d086af736a60e9eeb907d3b93b6e0e5",
    "execution": {
     "iopub.execute_input": "2022-11-27T14:50:49.265653Z",
     "iopub.status.busy": "2022-11-27T14:50:49.264904Z",
     "iopub.status.idle": "2022-11-27T14:50:49.282987Z",
     "shell.execute_reply": "2022-11-27T14:50:49.281177Z"
    },
    "papermill": {
     "duration": 0.02949,
     "end_time": "2022-11-27T14:50:49.286223",
     "exception": false,
     "start_time": "2022-11-27T14:50:49.256733",
     "status": "completed"
    },
    "tags": []
   },
   "outputs": [
    {
     "name": "stdout",
     "output_type": "stream",
     "text": [
      "/kaggle/input/titanic/train.csv\n",
      "/kaggle/input/titanic/test.csv\n",
      "/kaggle/input/titanic/gender_submission.csv\n"
     ]
    }
   ],
   "source": [
    "# This Python 3 environment comes with many helpful analytics libraries installed\n",
    "# It is defined by the kaggle/python Docker image: https://github.com/kaggle/docker-python\n",
    "# For example, here's several helpful packages to load\n",
    "\n",
    "import numpy as np # linear algebra\n",
    "import pandas as pd # data processing, CSV file I/O (e.g. pd.read_csv)\n",
    "\n",
    "# Input data files are available in the read-only \"../input/\" directory\n",
    "# For example, running this (by clicking run or pressing Shift+Enter) will list all files under the input directory\n",
    "\n",
    "import os\n",
    "for dirname, _, filenames in os.walk('/kaggle/input'):\n",
    "    for filename in filenames:\n",
    "        print(os.path.join(dirname, filename))\n",
    "\n",
    "# You can write up to 20GB to the current directory (/kaggle/working/) that gets preserved as output when you create a version using \"Save & Run All\" \n",
    "# You can also write temporary files to /kaggle/temp/, but they won't be saved outside of the current session"
   ]
  },
  {
   "cell_type": "markdown",
   "id": "f08c0756",
   "metadata": {
    "papermill": {
     "duration": 0.00401,
     "end_time": "2022-11-27T14:50:49.295355",
     "exception": false,
     "start_time": "2022-11-27T14:50:49.291345",
     "status": "completed"
    },
    "tags": []
   },
   "source": [
    "Titanic Project:\n",
    "In this notebook The goal is to correctly predict if someone survived the Titanic shipwreck."
   ]
  },
  {
   "cell_type": "markdown",
   "id": "3fe74978",
   "metadata": {
    "execution": {
     "iopub.execute_input": "2022-11-27T14:30:19.552456Z",
     "iopub.status.busy": "2022-11-27T14:30:19.552088Z",
     "iopub.status.idle": "2022-11-27T14:30:19.578458Z",
     "shell.execute_reply": "2022-11-27T14:30:19.577415Z",
     "shell.execute_reply.started": "2022-11-27T14:30:19.552384Z"
    },
    "papermill": {
     "duration": 0.003867,
     "end_time": "2022-11-27T14:50:49.303569",
     "exception": false,
     "start_time": "2022-11-27T14:50:49.299702",
     "status": "completed"
    },
    "tags": []
   },
   "source": [
    "**Best results :  % accuracy ()**\n",
    "\n",
    "**Overview\n",
    "1) Understand the shape of the data (Histograms, box plots, etc.)\n",
    "\n",
    "2) Data Cleaning\n",
    "\n",
    "3) Data Exploration\n",
    "\n",
    "4) Feature Engineering\n",
    "\n",
    "5) Data Preprocessing for Model\n",
    "\n",
    "6) Basic Model Building\n",
    "\n",
    "7) Model Tuning\n",
    "\n",
    "8) Ensemble Modle Building\n",
    "\n",
    "9) Results**\n"
   ]
  },
  {
   "cell_type": "code",
   "execution_count": 2,
   "id": "3e52b73e",
   "metadata": {
    "execution": {
     "iopub.execute_input": "2022-11-27T14:50:49.313727Z",
     "iopub.status.busy": "2022-11-27T14:50:49.313302Z",
     "iopub.status.idle": "2022-11-27T14:50:50.560752Z",
     "shell.execute_reply": "2022-11-27T14:50:50.559411Z"
    },
    "papermill": {
     "duration": 1.256216,
     "end_time": "2022-11-27T14:50:50.563935",
     "exception": false,
     "start_time": "2022-11-27T14:50:49.307719",
     "status": "completed"
    },
    "tags": []
   },
   "outputs": [],
   "source": [
    "#importing the required liabraries\n",
    "\n",
    "import numpy as np\n",
    "import pandas as pd\n",
    "import matplotlib.pyplot as plt\n",
    "import seaborn as sns\n",
    "%matplotlib inline"
   ]
  },
  {
   "cell_type": "code",
   "execution_count": 3,
   "id": "3af1f4bd",
   "metadata": {
    "execution": {
     "iopub.execute_input": "2022-11-27T14:50:50.575841Z",
     "iopub.status.busy": "2022-11-27T14:50:50.574284Z",
     "iopub.status.idle": "2022-11-27T14:50:50.611092Z",
     "shell.execute_reply": "2022-11-27T14:50:50.609746Z"
    },
    "papermill": {
     "duration": 0.045894,
     "end_time": "2022-11-27T14:50:50.614365",
     "exception": false,
     "start_time": "2022-11-27T14:50:50.568471",
     "status": "completed"
    },
    "tags": []
   },
   "outputs": [],
   "source": [
    "#Importing the required data\n",
    "\n",
    "train_data = pd.read_csv('/kaggle/input/titanic/train.csv')\n",
    "test_data = pd.read_csv('/kaggle/input/titanic/test.csv')"
   ]
  },
  {
   "cell_type": "code",
   "execution_count": 4,
   "id": "b4dd5f1c",
   "metadata": {
    "execution": {
     "iopub.execute_input": "2022-11-27T14:50:50.625261Z",
     "iopub.status.busy": "2022-11-27T14:50:50.624768Z",
     "iopub.status.idle": "2022-11-27T14:50:50.651370Z",
     "shell.execute_reply": "2022-11-27T14:50:50.649606Z"
    },
    "papermill": {
     "duration": 0.034996,
     "end_time": "2022-11-27T14:50:50.653824",
     "exception": false,
     "start_time": "2022-11-27T14:50:50.618828",
     "status": "completed"
    },
    "tags": []
   },
   "outputs": [
    {
     "name": "stdout",
     "output_type": "stream",
     "text": [
      "   PassengerId  Survived  Pclass  \\\n",
      "0            1         0       3   \n",
      "1            2         1       1   \n",
      "2            3         1       3   \n",
      "3            4         1       1   \n",
      "4            5         0       3   \n",
      "\n",
      "                                                Name     Sex   Age  SibSp  \\\n",
      "0                            Braund, Mr. Owen Harris    male  22.0      1   \n",
      "1  Cumings, Mrs. John Bradley (Florence Briggs Th...  female  38.0      1   \n",
      "2                             Heikkinen, Miss. Laina  female  26.0      0   \n",
      "3       Futrelle, Mrs. Jacques Heath (Lily May Peel)  female  35.0      1   \n",
      "4                           Allen, Mr. William Henry    male  35.0      0   \n",
      "\n",
      "   Parch            Ticket     Fare Cabin Embarked  \n",
      "0      0         A/5 21171   7.2500   NaN        S  \n",
      "1      0          PC 17599  71.2833   C85        C  \n",
      "2      0  STON/O2. 3101282   7.9250   NaN        S  \n",
      "3      0            113803  53.1000  C123        S  \n",
      "4      0            373450   8.0500   NaN        S  \n",
      "   PassengerId  Pclass                                          Name     Sex  \\\n",
      "0          892       3                              Kelly, Mr. James    male   \n",
      "1          893       3              Wilkes, Mrs. James (Ellen Needs)  female   \n",
      "2          894       2                     Myles, Mr. Thomas Francis    male   \n",
      "3          895       3                              Wirz, Mr. Albert    male   \n",
      "4          896       3  Hirvonen, Mrs. Alexander (Helga E Lindqvist)  female   \n",
      "\n",
      "    Age  SibSp  Parch   Ticket     Fare Cabin Embarked  \n",
      "0  34.5      0      0   330911   7.8292   NaN        Q  \n",
      "1  47.0      1      0   363272   7.0000   NaN        S  \n",
      "2  62.0      0      0   240276   9.6875   NaN        Q  \n",
      "3  27.0      0      0   315154   8.6625   NaN        S  \n",
      "4  22.0      1      1  3101298  12.2875   NaN        S  \n"
     ]
    },
    {
     "data": {
      "text/plain": [
       "(None, None)"
      ]
     },
     "execution_count": 4,
     "metadata": {},
     "output_type": "execute_result"
    }
   ],
   "source": [
    "#Checking the read data\n",
    "\n",
    "print(train_data.head()), print(test_data.head())"
   ]
  },
  {
   "cell_type": "code",
   "execution_count": 5,
   "id": "46ec4a99",
   "metadata": {
    "execution": {
     "iopub.execute_input": "2022-11-27T14:50:50.665268Z",
     "iopub.status.busy": "2022-11-27T14:50:50.663898Z",
     "iopub.status.idle": "2022-11-27T14:50:50.673236Z",
     "shell.execute_reply": "2022-11-27T14:50:50.671645Z"
    },
    "papermill": {
     "duration": 0.017611,
     "end_time": "2022-11-27T14:50:50.675979",
     "exception": false,
     "start_time": "2022-11-27T14:50:50.658368",
     "status": "completed"
    },
    "tags": []
   },
   "outputs": [
    {
     "name": "stdout",
     "output_type": "stream",
     "text": [
      "(891, 12)\n",
      "(418, 11)\n"
     ]
    },
    {
     "data": {
      "text/plain": [
       "(None, None)"
      ]
     },
     "execution_count": 5,
     "metadata": {},
     "output_type": "execute_result"
    }
   ],
   "source": [
    "print(train_data.shape),print(test_data.shape) "
   ]
  },
  {
   "cell_type": "code",
   "execution_count": 6,
   "id": "aa2ceafd",
   "metadata": {
    "execution": {
     "iopub.execute_input": "2022-11-27T14:50:50.687041Z",
     "iopub.status.busy": "2022-11-27T14:50:50.686601Z",
     "iopub.status.idle": "2022-11-27T14:50:50.695758Z",
     "shell.execute_reply": "2022-11-27T14:50:50.694394Z"
    },
    "papermill": {
     "duration": 0.018379,
     "end_time": "2022-11-27T14:50:50.698999",
     "exception": false,
     "start_time": "2022-11-27T14:50:50.680620",
     "status": "completed"
    },
    "tags": []
   },
   "outputs": [
    {
     "name": "stdout",
     "output_type": "stream",
     "text": [
      "Index(['PassengerId', 'Survived', 'Pclass', 'Name', 'Sex', 'Age', 'SibSp',\n",
      "       'Parch', 'Ticket', 'Fare', 'Cabin', 'Embarked'],\n",
      "      dtype='object')\n",
      "Index(['PassengerId', 'Pclass', 'Name', 'Sex', 'Age', 'SibSp', 'Parch',\n",
      "       'Ticket', 'Fare', 'Cabin', 'Embarked'],\n",
      "      dtype='object')\n"
     ]
    },
    {
     "data": {
      "text/plain": [
       "(None, None)"
      ]
     },
     "execution_count": 6,
     "metadata": {},
     "output_type": "execute_result"
    }
   ],
   "source": [
    "print(train_data.columns), print(test_data.columns)"
   ]
  },
  {
   "cell_type": "markdown",
   "id": "8825fcf2",
   "metadata": {
    "papermill": {
     "duration": 0.004986,
     "end_time": "2022-11-27T14:50:50.708642",
     "exception": false,
     "start_time": "2022-11-27T14:50:50.703656",
     "status": "completed"
    },
    "tags": []
   },
   "source": [
    "# Project Planning\n"
   ]
  },
  {
   "cell_type": "markdown",
   "id": "6a147dfc",
   "metadata": {
    "papermill": {
     "duration": 0.00461,
     "end_time": "2022-11-27T14:50:50.718139",
     "exception": false,
     "start_time": "2022-11-27T14:50:50.713529",
     "status": "completed"
    },
    "tags": []
   },
   "source": [
    "### Steps used for this project\n",
    "#### Understand nature of the data .info() .describe()\n",
    "#### Histograms and boxplots \n",
    "#### Value counts \n",
    "#### Missing data \n",
    "#### Correlation between the metrics \n",
    "#### Explore interesting themes \n",
    "#### Wealthy survive? \n",
    "#### By location \n",
    "#### Age scatterplot with ticket price \n",
    "#### Young and wealthy Variable? \n",
    "#### Total spent? \n",
    "#### Feature engineering \n",
    "#### preprocess data together or use a transformer? \n",
    "#### use label for train and test   \n",
    "#### Scaling?\n",
    "#### Model Baseline \n",
    "#### Model comparison with CV "
   ]
  },
  {
   "cell_type": "code",
   "execution_count": 7,
   "id": "8735c675",
   "metadata": {
    "execution": {
     "iopub.execute_input": "2022-11-27T14:50:50.729713Z",
     "iopub.status.busy": "2022-11-27T14:50:50.729258Z",
     "iopub.status.idle": "2022-11-27T14:50:50.759617Z",
     "shell.execute_reply": "2022-11-27T14:50:50.758113Z"
    },
    "papermill": {
     "duration": 0.040167,
     "end_time": "2022-11-27T14:50:50.763035",
     "exception": false,
     "start_time": "2022-11-27T14:50:50.722868",
     "status": "completed"
    },
    "tags": []
   },
   "outputs": [
    {
     "name": "stdout",
     "output_type": "stream",
     "text": [
      "<class 'pandas.core.frame.DataFrame'>\n",
      "RangeIndex: 891 entries, 0 to 890\n",
      "Data columns (total 12 columns):\n",
      " #   Column       Non-Null Count  Dtype  \n",
      "---  ------       --------------  -----  \n",
      " 0   PassengerId  891 non-null    int64  \n",
      " 1   Survived     891 non-null    int64  \n",
      " 2   Pclass       891 non-null    int64  \n",
      " 3   Name         891 non-null    object \n",
      " 4   Sex          891 non-null    object \n",
      " 5   Age          714 non-null    float64\n",
      " 6   SibSp        891 non-null    int64  \n",
      " 7   Parch        891 non-null    int64  \n",
      " 8   Ticket       891 non-null    object \n",
      " 9   Fare         891 non-null    float64\n",
      " 10  Cabin        204 non-null    object \n",
      " 11  Embarked     889 non-null    object \n",
      "dtypes: float64(2), int64(5), object(5)\n",
      "memory usage: 83.7+ KB\n",
      "None\n"
     ]
    }
   ],
   "source": [
    "#Understand nature of the data .info() .describe()\n",
    "\n",
    "print(train_data.info())"
   ]
  },
  {
   "cell_type": "markdown",
   "id": "ace6a246",
   "metadata": {
    "execution": {
     "iopub.execute_input": "2022-11-27T14:47:51.670959Z",
     "iopub.status.busy": "2022-11-27T14:47:51.670657Z",
     "iopub.status.idle": "2022-11-27T14:47:51.675094Z",
     "shell.execute_reply": "2022-11-27T14:47:51.674129Z",
     "shell.execute_reply.started": "2022-11-27T14:47:51.670936Z"
    },
    "papermill": {
     "duration": 0.004836,
     "end_time": "2022-11-27T14:50:50.773636",
     "exception": false,
     "start_time": "2022-11-27T14:50:50.768800",
     "status": "completed"
    },
    "tags": []
   },
   "source": [
    "### Notes : Column-'Age','Cabin' &'Embarked' has missing values\n",
    "### Total 891 rows of data with 12 features\n",
    "### "
   ]
  },
  {
   "cell_type": "code",
   "execution_count": 8,
   "id": "48285c95",
   "metadata": {
    "execution": {
     "iopub.execute_input": "2022-11-27T14:50:50.785263Z",
     "iopub.status.busy": "2022-11-27T14:50:50.784773Z",
     "iopub.status.idle": "2022-11-27T14:50:50.821780Z",
     "shell.execute_reply": "2022-11-27T14:50:50.819968Z"
    },
    "papermill": {
     "duration": 0.048094,
     "end_time": "2022-11-27T14:50:50.826533",
     "exception": false,
     "start_time": "2022-11-27T14:50:50.778439",
     "status": "completed"
    },
    "tags": []
   },
   "outputs": [
    {
     "name": "stdout",
     "output_type": "stream",
     "text": [
      "       PassengerId    Survived      Pclass         Age       SibSp  \\\n",
      "count   891.000000  891.000000  891.000000  714.000000  891.000000   \n",
      "mean    446.000000    0.383838    2.308642   29.699118    0.523008   \n",
      "std     257.353842    0.486592    0.836071   14.526497    1.102743   \n",
      "min       1.000000    0.000000    1.000000    0.420000    0.000000   \n",
      "25%     223.500000    0.000000    2.000000   20.125000    0.000000   \n",
      "50%     446.000000    0.000000    3.000000   28.000000    0.000000   \n",
      "75%     668.500000    1.000000    3.000000   38.000000    1.000000   \n",
      "max     891.000000    1.000000    3.000000   80.000000    8.000000   \n",
      "\n",
      "            Parch        Fare  \n",
      "count  891.000000  891.000000  \n",
      "mean     0.381594   32.204208  \n",
      "std      0.806057   49.693429  \n",
      "min      0.000000    0.000000  \n",
      "25%      0.000000    7.910400  \n",
      "50%      0.000000   14.454200  \n",
      "75%      0.000000   31.000000  \n",
      "max      6.000000  512.329200  \n"
     ]
    }
   ],
   "source": [
    "print(train_data.describe())"
   ]
  },
  {
   "cell_type": "code",
   "execution_count": null,
   "id": "07ec0f25",
   "metadata": {
    "papermill": {
     "duration": 0.004383,
     "end_time": "2022-11-27T14:50:50.836743",
     "exception": false,
     "start_time": "2022-11-27T14:50:50.832360",
     "status": "completed"
    },
    "tags": []
   },
   "outputs": [],
   "source": []
  }
 ],
 "metadata": {
  "kernelspec": {
   "display_name": "Python 3",
   "language": "python",
   "name": "python3"
  },
  "language_info": {
   "codemirror_mode": {
    "name": "ipython",
    "version": 3
   },
   "file_extension": ".py",
   "mimetype": "text/x-python",
   "name": "python",
   "nbconvert_exporter": "python",
   "pygments_lexer": "ipython3",
   "version": "3.7.12"
  },
  "papermill": {
   "default_parameters": {},
   "duration": 11.718904,
   "end_time": "2022-11-27T14:50:51.666230",
   "environment_variables": {},
   "exception": null,
   "input_path": "__notebook__.ipynb",
   "output_path": "__notebook__.ipynb",
   "parameters": {},
   "start_time": "2022-11-27T14:50:39.947326",
   "version": "2.3.4"
  }
 },
 "nbformat": 4,
 "nbformat_minor": 5
}
