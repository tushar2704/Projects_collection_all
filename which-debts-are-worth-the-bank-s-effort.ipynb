{
 "cells": [
  {
   "cell_type": "markdown",
   "id": "18e30493",
   "metadata": {
    "papermill": {
     "duration": 0.004552,
     "end_time": "2023-01-02T16:51:09.537593",
     "exception": false,
     "start_time": "2023-01-02T16:51:09.533041",
     "status": "completed"
    },
    "tags": []
   },
   "source": [
    "<div style=\"color:white;\n",
    "           display:fill;\n",
    "           border-radius:20px;\n",
    "           background-color:#F5DEB3;\n",
    "           font-size:180%;\n",
    "           font-family:Helvetica, Sans-Serif;\n",
    "           letter-spacing:0.5px\">\n",
    "<p style=\"padding: 10px;\n",
    "          text-align: center;\n",
    "          font-size:150%;\n",
    "          color:blue;\">\n",
    "           🏦💵Which Debts Are Worth the Bank's Effort?🏧💱\n",
    "            \n",
    "</p>\n",
    "<style>\n",
    "        h1{text-align: center;}\n",
    " </style>  \n",
    "    \n",
    "</div>"
   ]
  },
  {
   "cell_type": "markdown",
   "id": "a75327ae",
   "metadata": {
    "papermill": {
     "duration": 0.003182,
     "end_time": "2023-01-02T16:51:09.544576",
     "exception": false,
     "start_time": "2023-01-02T16:51:09.541394",
     "status": "completed"
    },
    "tags": []
   },
   "source": [
    "<p style=\"font-family:cursive; font-size:25px; color:'darkcyan';\">I brewed this notebook from scratch, If this notebook helped, please consider upvoting and cite me if sharing on other platforms.</p>\n",
    "\n",
    "\n",
    "<p style=\"width: 700px;padding: 20px;background: papayawhip;border-radius:10px;font-size:23px;font-size:23px;border-radius:20px\">\n",
    "    <a href=\"https://www.linkedin.com/in/tusharaggarwalinseec/\" target=\"_blank\">Lets connect on LinkedIn!</a>\n",
    "    \n",
    "   </p>\n",
    "<p style=\"width: 700px;padding: 20px;background: papayawhip;border-radius:10px;font-size:23px;border-radius:20px\">\n",
    "<a href=\"https://github.com/tushar2704\" target=\"_blank\">Follow me on Github too!</a> </p>\n",
    "\n",
    "<p style=\"width: 700px;padding: 20px;background: papayawhip;border-radius:10px;font-size:23px;border-radius:20px\">\n",
    "    <a href=\"https://medium.com/@tushar_aggarwal\" target=\"_blank\">Also checkout my Medium posts!</a>\n",
    "    \n",
    "   </p>"
   ]
  },
  {
   "cell_type": "markdown",
   "id": "bc6229d6",
   "metadata": {
    "papermill": {
     "duration": 0.002767,
     "end_time": "2023-01-02T16:51:09.550571",
     "exception": false,
     "start_time": "2023-01-02T16:51:09.547804",
     "status": "completed"
    },
    "tags": []
   },
   "source": [
    "\n",
    "<div class=\"alert alert-info\" role=\"alert\" style=\"font-size:17px;border-radius:20px\">\n",
    "    <b>Regression discontinuity: banking recovery</b>\n",
    "    \n",
    "</div>\n",
    "<div class=\"alert alert-info\" role=\"alert\" style=\"font-size:15px;border-radius:20px\">\n",
    "    <b>Some things to note:</b>\n",
    "    <br><br>After a debt has been legally declared \"uncollectable\" by a bank, the account is considered to be \"charged-off.\" But that doesn't mean the bank simply walks away from the debt. They still want to collect some of the money they are owed.\n",
    "    <br><br>\n",
    "    In this project, we'll look at a situation where a bank assigned delinquent customers to different recovery strategies based on the expected amount the bank believed it would recover from the customer. The goal for us is to determine in this non-random assignment whether the incremental amount the bank earns exceeded the additional cost of assigning customers to a higher recovery strategy.\n",
    "    <br></br>\n",
    "    Regression discontinuity is an intuitive and useful analysis method in any situation of a threshold assignment.\n",
    "</div>"
   ]
  },
  {
   "cell_type": "markdown",
   "id": "76681b74",
   "metadata": {
    "papermill": {
     "duration": 0.002764,
     "end_time": "2023-01-02T16:51:09.556423",
     "exception": false,
     "start_time": "2023-01-02T16:51:09.553659",
     "status": "completed"
    },
    "tags": []
   },
   "source": [
    "<p style=\"width: 700px;padding: 20px;background: papayawhip;border-radius:10px;font-size:17px;border-radius:20px\">\n",
    "\n",
    " \n",
    "\n",
    "    \n",
    "   </p>\n"
   ]
  },
  {
   "cell_type": "code",
   "execution_count": 1,
   "id": "d5669379",
   "metadata": {
    "execution": {
     "iopub.execute_input": "2023-01-02T16:51:09.564911Z",
     "iopub.status.busy": "2023-01-02T16:51:09.564160Z",
     "iopub.status.idle": "2023-01-02T16:51:09.573608Z",
     "shell.execute_reply": "2023-01-02T16:51:09.572809Z"
    },
    "papermill": {
     "duration": 0.016303,
     "end_time": "2023-01-02T16:51:09.575822",
     "exception": false,
     "start_time": "2023-01-02T16:51:09.559519",
     "status": "completed"
    },
    "tags": []
   },
   "outputs": [],
   "source": [
    "import numpy as np\n",
    "import pandas as pd"
   ]
  },
  {
   "cell_type": "code",
   "execution_count": 2,
   "id": "a0345023",
   "metadata": {
    "execution": {
     "iopub.execute_input": "2023-01-02T16:51:09.584236Z",
     "iopub.status.busy": "2023-01-02T16:51:09.583551Z",
     "iopub.status.idle": "2023-01-02T16:51:09.615825Z",
     "shell.execute_reply": "2023-01-02T16:51:09.614871Z"
    },
    "papermill": {
     "duration": 0.039268,
     "end_time": "2023-01-02T16:51:09.618488",
     "exception": false,
     "start_time": "2023-01-02T16:51:09.579220",
     "status": "completed"
    },
    "tags": []
   },
   "outputs": [],
   "source": [
    "bank_data = pd.read_csv(\"/kaggle/input/bank-recovery-data/bank_recovery_data.csv\")"
   ]
  },
  {
   "cell_type": "code",
   "execution_count": 3,
   "id": "d7b4a7a1",
   "metadata": {
    "execution": {
     "iopub.execute_input": "2023-01-02T16:51:09.626750Z",
     "iopub.status.busy": "2023-01-02T16:51:09.626329Z",
     "iopub.status.idle": "2023-01-02T16:51:09.654041Z",
     "shell.execute_reply": "2023-01-02T16:51:09.652874Z"
    },
    "papermill": {
     "duration": 0.035196,
     "end_time": "2023-01-02T16:51:09.657087",
     "exception": false,
     "start_time": "2023-01-02T16:51:09.621891",
     "status": "completed"
    },
    "tags": []
   },
   "outputs": [
    {
     "data": {
      "text/html": [
       "<div>\n",
       "<style scoped>\n",
       "    .dataframe tbody tr th:only-of-type {\n",
       "        vertical-align: middle;\n",
       "    }\n",
       "\n",
       "    .dataframe tbody tr th {\n",
       "        vertical-align: top;\n",
       "    }\n",
       "\n",
       "    .dataframe thead th {\n",
       "        text-align: right;\n",
       "    }\n",
       "</style>\n",
       "<table border=\"1\" class=\"dataframe\">\n",
       "  <thead>\n",
       "    <tr style=\"text-align: right;\">\n",
       "      <th></th>\n",
       "      <th>id</th>\n",
       "      <th>expected_recovery_amount</th>\n",
       "      <th>actual_recovery_amount</th>\n",
       "      <th>recovery_strategy</th>\n",
       "      <th>age</th>\n",
       "      <th>sex</th>\n",
       "    </tr>\n",
       "  </thead>\n",
       "  <tbody>\n",
       "    <tr>\n",
       "      <th>0</th>\n",
       "      <td>2030</td>\n",
       "      <td>194</td>\n",
       "      <td>263.540</td>\n",
       "      <td>Level 0 Recovery</td>\n",
       "      <td>19</td>\n",
       "      <td>Male</td>\n",
       "    </tr>\n",
       "    <tr>\n",
       "      <th>1</th>\n",
       "      <td>1150</td>\n",
       "      <td>486</td>\n",
       "      <td>416.090</td>\n",
       "      <td>Level 0 Recovery</td>\n",
       "      <td>25</td>\n",
       "      <td>Female</td>\n",
       "    </tr>\n",
       "    <tr>\n",
       "      <th>2</th>\n",
       "      <td>380</td>\n",
       "      <td>527</td>\n",
       "      <td>429.350</td>\n",
       "      <td>Level 0 Recovery</td>\n",
       "      <td>27</td>\n",
       "      <td>Male</td>\n",
       "    </tr>\n",
       "    <tr>\n",
       "      <th>3</th>\n",
       "      <td>1838</td>\n",
       "      <td>536</td>\n",
       "      <td>296.990</td>\n",
       "      <td>Level 0 Recovery</td>\n",
       "      <td>25</td>\n",
       "      <td>Male</td>\n",
       "    </tr>\n",
       "    <tr>\n",
       "      <th>4</th>\n",
       "      <td>1995</td>\n",
       "      <td>541</td>\n",
       "      <td>346.385</td>\n",
       "      <td>Level 0 Recovery</td>\n",
       "      <td>34</td>\n",
       "      <td>Male</td>\n",
       "    </tr>\n",
       "  </tbody>\n",
       "</table>\n",
       "</div>"
      ],
      "text/plain": [
       "     id  expected_recovery_amount  actual_recovery_amount recovery_strategy  \\\n",
       "0  2030                       194                 263.540  Level 0 Recovery   \n",
       "1  1150                       486                 416.090  Level 0 Recovery   \n",
       "2   380                       527                 429.350  Level 0 Recovery   \n",
       "3  1838                       536                 296.990  Level 0 Recovery   \n",
       "4  1995                       541                 346.385  Level 0 Recovery   \n",
       "\n",
       "   age     sex  \n",
       "0   19    Male  \n",
       "1   25  Female  \n",
       "2   27    Male  \n",
       "3   25    Male  \n",
       "4   34    Male  "
      ]
     },
     "execution_count": 3,
     "metadata": {},
     "output_type": "execute_result"
    }
   ],
   "source": [
    "bank_data.head()"
   ]
  },
  {
   "cell_type": "code",
   "execution_count": 4,
   "id": "c66b2ff5",
   "metadata": {
    "execution": {
     "iopub.execute_input": "2023-01-02T16:51:09.665825Z",
     "iopub.status.busy": "2023-01-02T16:51:09.665393Z",
     "iopub.status.idle": "2023-01-02T16:51:09.676017Z",
     "shell.execute_reply": "2023-01-02T16:51:09.674795Z"
    },
    "papermill": {
     "duration": 0.01753,
     "end_time": "2023-01-02T16:51:09.678325",
     "exception": false,
     "start_time": "2023-01-02T16:51:09.660795",
     "status": "completed"
    },
    "tags": []
   },
   "outputs": [
    {
     "data": {
      "text/plain": [
       "id                          0\n",
       "expected_recovery_amount    0\n",
       "actual_recovery_amount      0\n",
       "recovery_strategy           0\n",
       "age                         0\n",
       "sex                         0\n",
       "dtype: int64"
      ]
     },
     "execution_count": 4,
     "metadata": {},
     "output_type": "execute_result"
    }
   ],
   "source": [
    "bank_data.isnull().sum().sort_values()"
   ]
  },
  {
   "cell_type": "code",
   "execution_count": 5,
   "id": "f08d613e",
   "metadata": {
    "execution": {
     "iopub.execute_input": "2023-01-02T16:51:09.687466Z",
     "iopub.status.busy": "2023-01-02T16:51:09.686807Z",
     "iopub.status.idle": "2023-01-02T16:51:09.713033Z",
     "shell.execute_reply": "2023-01-02T16:51:09.711620Z"
    },
    "papermill": {
     "duration": 0.033784,
     "end_time": "2023-01-02T16:51:09.715761",
     "exception": false,
     "start_time": "2023-01-02T16:51:09.681977",
     "status": "completed"
    },
    "tags": []
   },
   "outputs": [
    {
     "name": "stdout",
     "output_type": "stream",
     "text": [
      "<class 'pandas.core.frame.DataFrame'>\n",
      "RangeIndex: 1882 entries, 0 to 1881\n",
      "Data columns (total 6 columns):\n",
      " #   Column                    Non-Null Count  Dtype  \n",
      "---  ------                    --------------  -----  \n",
      " 0   id                        1882 non-null   int64  \n",
      " 1   expected_recovery_amount  1882 non-null   int64  \n",
      " 2   actual_recovery_amount    1882 non-null   float64\n",
      " 3   recovery_strategy         1882 non-null   object \n",
      " 4   age                       1882 non-null   int64  \n",
      " 5   sex                       1882 non-null   object \n",
      "dtypes: float64(1), int64(3), object(2)\n",
      "memory usage: 88.3+ KB\n"
     ]
    }
   ],
   "source": [
    "bank_data.info()"
   ]
  },
  {
   "cell_type": "code",
   "execution_count": 6,
   "id": "d628a44f",
   "metadata": {
    "execution": {
     "iopub.execute_input": "2023-01-02T16:51:09.725349Z",
     "iopub.status.busy": "2023-01-02T16:51:09.724438Z",
     "iopub.status.idle": "2023-01-02T16:51:09.754015Z",
     "shell.execute_reply": "2023-01-02T16:51:09.753082Z"
    },
    "papermill": {
     "duration": 0.036651,
     "end_time": "2023-01-02T16:51:09.756169",
     "exception": false,
     "start_time": "2023-01-02T16:51:09.719518",
     "status": "completed"
    },
    "tags": []
   },
   "outputs": [
    {
     "data": {
      "text/html": [
       "<div>\n",
       "<style scoped>\n",
       "    .dataframe tbody tr th:only-of-type {\n",
       "        vertical-align: middle;\n",
       "    }\n",
       "\n",
       "    .dataframe tbody tr th {\n",
       "        vertical-align: top;\n",
       "    }\n",
       "\n",
       "    .dataframe thead th {\n",
       "        text-align: right;\n",
       "    }\n",
       "</style>\n",
       "<table border=\"1\" class=\"dataframe\">\n",
       "  <thead>\n",
       "    <tr style=\"text-align: right;\">\n",
       "      <th></th>\n",
       "      <th>id</th>\n",
       "      <th>expected_recovery_amount</th>\n",
       "      <th>actual_recovery_amount</th>\n",
       "      <th>recovery_strategy</th>\n",
       "      <th>age</th>\n",
       "      <th>sex</th>\n",
       "    </tr>\n",
       "  </thead>\n",
       "  <tbody>\n",
       "    <tr>\n",
       "      <th>count</th>\n",
       "      <td>1882.000000</td>\n",
       "      <td>1882.000000</td>\n",
       "      <td>1882.000000</td>\n",
       "      <td>1882</td>\n",
       "      <td>1882.000000</td>\n",
       "      <td>1882</td>\n",
       "    </tr>\n",
       "    <tr>\n",
       "      <th>unique</th>\n",
       "      <td>NaN</td>\n",
       "      <td>NaN</td>\n",
       "      <td>NaN</td>\n",
       "      <td>5</td>\n",
       "      <td>NaN</td>\n",
       "      <td>2</td>\n",
       "    </tr>\n",
       "    <tr>\n",
       "      <th>top</th>\n",
       "      <td>NaN</td>\n",
       "      <td>NaN</td>\n",
       "      <td>NaN</td>\n",
       "      <td>Level 1 Recovery</td>\n",
       "      <td>NaN</td>\n",
       "      <td>Male</td>\n",
       "    </tr>\n",
       "    <tr>\n",
       "      <th>freq</th>\n",
       "      <td>NaN</td>\n",
       "      <td>NaN</td>\n",
       "      <td>NaN</td>\n",
       "      <td>670</td>\n",
       "      <td>NaN</td>\n",
       "      <td>973</td>\n",
       "    </tr>\n",
       "    <tr>\n",
       "      <th>mean</th>\n",
       "      <td>1035.596174</td>\n",
       "      <td>2759.967588</td>\n",
       "      <td>4000.967837</td>\n",
       "      <td>NaN</td>\n",
       "      <td>39.650372</td>\n",
       "      <td>NaN</td>\n",
       "    </tr>\n",
       "    <tr>\n",
       "      <th>std</th>\n",
       "      <td>591.458429</td>\n",
       "      <td>2019.826565</td>\n",
       "      <td>4576.506350</td>\n",
       "      <td>NaN</td>\n",
       "      <td>15.453072</td>\n",
       "      <td>NaN</td>\n",
       "    </tr>\n",
       "    <tr>\n",
       "      <th>min</th>\n",
       "      <td>6.000000</td>\n",
       "      <td>194.000000</td>\n",
       "      <td>200.425000</td>\n",
       "      <td>NaN</td>\n",
       "      <td>18.000000</td>\n",
       "      <td>NaN</td>\n",
       "    </tr>\n",
       "    <tr>\n",
       "      <th>25%</th>\n",
       "      <td>534.250000</td>\n",
       "      <td>1261.250000</td>\n",
       "      <td>1045.190300</td>\n",
       "      <td>NaN</td>\n",
       "      <td>28.000000</td>\n",
       "      <td>NaN</td>\n",
       "    </tr>\n",
       "    <tr>\n",
       "      <th>50%</th>\n",
       "      <td>1029.500000</td>\n",
       "      <td>2062.000000</td>\n",
       "      <td>2115.446373</td>\n",
       "      <td>NaN</td>\n",
       "      <td>35.000000</td>\n",
       "      <td>NaN</td>\n",
       "    </tr>\n",
       "    <tr>\n",
       "      <th>75%</th>\n",
       "      <td>1551.750000</td>\n",
       "      <td>3569.500000</td>\n",
       "      <td>5417.237207</td>\n",
       "      <td>NaN</td>\n",
       "      <td>50.000000</td>\n",
       "      <td>NaN</td>\n",
       "    </tr>\n",
       "    <tr>\n",
       "      <th>max</th>\n",
       "      <td>2056.000000</td>\n",
       "      <td>9964.000000</td>\n",
       "      <td>34398.479710</td>\n",
       "      <td>NaN</td>\n",
       "      <td>84.000000</td>\n",
       "      <td>NaN</td>\n",
       "    </tr>\n",
       "  </tbody>\n",
       "</table>\n",
       "</div>"
      ],
      "text/plain": [
       "                 id  expected_recovery_amount  actual_recovery_amount  \\\n",
       "count   1882.000000               1882.000000             1882.000000   \n",
       "unique          NaN                       NaN                     NaN   \n",
       "top             NaN                       NaN                     NaN   \n",
       "freq            NaN                       NaN                     NaN   \n",
       "mean    1035.596174               2759.967588             4000.967837   \n",
       "std      591.458429               2019.826565             4576.506350   \n",
       "min        6.000000                194.000000              200.425000   \n",
       "25%      534.250000               1261.250000             1045.190300   \n",
       "50%     1029.500000               2062.000000             2115.446373   \n",
       "75%     1551.750000               3569.500000             5417.237207   \n",
       "max     2056.000000               9964.000000            34398.479710   \n",
       "\n",
       "       recovery_strategy          age   sex  \n",
       "count               1882  1882.000000  1882  \n",
       "unique                 5          NaN     2  \n",
       "top     Level 1 Recovery          NaN  Male  \n",
       "freq                 670          NaN   973  \n",
       "mean                 NaN    39.650372   NaN  \n",
       "std                  NaN    15.453072   NaN  \n",
       "min                  NaN    18.000000   NaN  \n",
       "25%                  NaN    28.000000   NaN  \n",
       "50%                  NaN    35.000000   NaN  \n",
       "75%                  NaN    50.000000   NaN  \n",
       "max                  NaN    84.000000   NaN  "
      ]
     },
     "execution_count": 6,
     "metadata": {},
     "output_type": "execute_result"
    }
   ],
   "source": [
    "bank_data.describe(include='all')"
   ]
  },
  {
   "cell_type": "code",
   "execution_count": null,
   "id": "467352c6",
   "metadata": {
    "papermill": {
     "duration": 0.004087,
     "end_time": "2023-01-02T16:51:09.764378",
     "exception": false,
     "start_time": "2023-01-02T16:51:09.760291",
     "status": "completed"
    },
    "tags": []
   },
   "outputs": [],
   "source": []
  }
 ],
 "metadata": {
  "kernelspec": {
   "display_name": "Python 3",
   "language": "python",
   "name": "python3"
  },
  "language_info": {
   "codemirror_mode": {
    "name": "ipython",
    "version": 3
   },
   "file_extension": ".py",
   "mimetype": "text/x-python",
   "name": "python",
   "nbconvert_exporter": "python",
   "pygments_lexer": "ipython3",
   "version": "3.7.12"
  },
  "papermill": {
   "default_parameters": {},
   "duration": 9.607494,
   "end_time": "2023-01-02T16:51:10.490010",
   "environment_variables": {},
   "exception": null,
   "input_path": "__notebook__.ipynb",
   "output_path": "__notebook__.ipynb",
   "parameters": {},
   "start_time": "2023-01-02T16:51:00.882516",
   "version": "2.3.4"
  }
 },
 "nbformat": 4,
 "nbformat_minor": 5
}
