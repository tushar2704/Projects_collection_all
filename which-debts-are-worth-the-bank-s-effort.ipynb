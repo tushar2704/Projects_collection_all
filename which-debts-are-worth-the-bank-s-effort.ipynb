{
 "cells": [
  {
   "cell_type": "markdown",
   "id": "5e967729",
   "metadata": {
    "papermill": {
     "duration": 0.005199,
     "end_time": "2023-01-03T12:26:36.984434",
     "exception": false,
     "start_time": "2023-01-03T12:26:36.979235",
     "status": "completed"
    },
    "tags": []
   },
   "source": [
    "<div style=\"color:white;\n",
    "           display:fill;\n",
    "           border-radius:20px;\n",
    "           background-color:#F5DEB3;\n",
    "           font-size:180%;\n",
    "           font-family:Helvetica, Sans-Serif;\n",
    "           letter-spacing:0.5px\">\n",
    "<p style=\"padding: 10px;\n",
    "          text-align: center;\n",
    "          font-size:150%;\n",
    "          color:blue;\">\n",
    "           🏦💵Which Debts Are Worth the Bank's Effort?🏧💱\n",
    "            \n",
    "</p>\n",
    "<style>\n",
    "        h1{text-align: center;}\n",
    " </style>  \n",
    "    \n",
    "</div>"
   ]
  },
  {
   "cell_type": "markdown",
   "id": "158078f9",
   "metadata": {
    "papermill": {
     "duration": 0.003397,
     "end_time": "2023-01-03T12:26:36.991836",
     "exception": false,
     "start_time": "2023-01-03T12:26:36.988439",
     "status": "completed"
    },
    "tags": []
   },
   "source": [
    "<p style=\"font-family:cursive; font-size:25px; color:'darkcyan';\">I brewed this notebook from scratch, If this notebook helped, please consider upvoting and cite me if sharing on other platforms.</p>\n",
    "\n",
    "\n",
    "<p style=\"width: 700px;padding: 20px;background: papayawhip;border-radius:10px;font-size:23px;font-size:23px;border-radius:20px\">\n",
    "    <a href=\"https://www.linkedin.com/in/tusharaggarwalinseec/\" target=\"_blank\">Lets connect on LinkedIn!</a>\n",
    "    \n",
    "   </p>\n",
    "<p style=\"width: 700px;padding: 20px;background: papayawhip;border-radius:10px;font-size:23px;border-radius:20px\">\n",
    "<a href=\"https://github.com/tushar2704\" target=\"_blank\">Follow me on Github too!</a> </p>\n",
    "\n",
    "<p style=\"width: 700px;padding: 20px;background: papayawhip;border-radius:10px;font-size:23px;border-radius:20px\">\n",
    "    <a href=\"https://medium.com/@tushar_aggarwal\" target=\"_blank\">Also checkout my Medium posts!</a>\n",
    "    \n",
    "   </p>"
   ]
  },
  {
   "cell_type": "markdown",
   "id": "b39db0b6",
   "metadata": {
    "papermill": {
     "duration": 0.003456,
     "end_time": "2023-01-03T12:26:36.998962",
     "exception": false,
     "start_time": "2023-01-03T12:26:36.995506",
     "status": "completed"
    },
    "tags": []
   },
   "source": [
    "\n",
    "<div class=\"alert alert-info\" role=\"alert\" style=\"font-size:17px;border-radius:20px\">\n",
    "    <b>Regression discontinuity: banking recovery</b>\n",
    "    \n",
    "</div>\n",
    "<div class=\"alert alert-info\" role=\"alert\" style=\"font-size:15px;border-radius:20px\">\n",
    "    <b>Some things to note:</b>\n",
    "    <br><br>After a debt has been legally declared \"uncollectable\" by a bank, the account is considered to be \"charged-off.\" But that doesn't mean the bank simply walks away from the debt. They still want to collect some of the money they are owed.\n",
    "    <br><br>\n",
    "    In this project, we'll look at a situation where a bank assigned delinquent customers to different recovery strategies based on the expected amount the bank believed it would recover from the customer. The goal for us is to determine in this non-random assignment whether the incremental amount the bank earns exceeded the additional cost of assigning customers to a higher recovery strategy.\n",
    "    <br></br>\n",
    "    Regression discontinuity is an intuitive and useful analysis method in any situation of a threshold assignment.\n",
    "</div>"
   ]
  },
  {
   "cell_type": "markdown",
   "id": "19c188fc",
   "metadata": {
    "papermill": {
     "duration": 0.003369,
     "end_time": "2023-01-03T12:26:37.006047",
     "exception": false,
     "start_time": "2023-01-03T12:26:37.002678",
     "status": "completed"
    },
    "tags": []
   },
   "source": [
    "<p style=\"width: 700px;padding: 20px;background: papayawhip;border-radius:10px;font-size:17px;border-radius:20px\">Importing the required Libraries\n",
    "\n",
    " \n",
    "\n",
    "    \n",
    "   </p>"
   ]
  },
  {
   "cell_type": "code",
   "execution_count": 1,
   "id": "96b7699b",
   "metadata": {
    "execution": {
     "iopub.execute_input": "2023-01-03T12:26:37.015795Z",
     "iopub.status.busy": "2023-01-03T12:26:37.015039Z",
     "iopub.status.idle": "2023-01-03T12:26:37.025035Z",
     "shell.execute_reply": "2023-01-03T12:26:37.023565Z"
    },
    "papermill": {
     "duration": 0.018527,
     "end_time": "2023-01-03T12:26:37.028188",
     "exception": false,
     "start_time": "2023-01-03T12:26:37.009661",
     "status": "completed"
    },
    "tags": []
   },
   "outputs": [],
   "source": [
    "import numpy as np\n",
    "import pandas as pd"
   ]
  },
  {
   "cell_type": "markdown",
   "id": "47a0b3d7",
   "metadata": {
    "papermill": {
     "duration": 0.003698,
     "end_time": "2023-01-03T12:26:37.035945",
     "exception": false,
     "start_time": "2023-01-03T12:26:37.032247",
     "status": "completed"
    },
    "tags": []
   },
   "source": [
    "<p style=\"width: 700px;padding: 20px;background: papayawhip;border-radius:10px;font-size:17px;border-radius:20px\">Reading/Importing the data from my dataset collection,\n",
    "    <br>\n",
    "<a href=\"https://www.kaggle.com/datasets/tusharaggarwal27/bank-recovery-data\" target=\"_blank\">Click here!</a>\n",
    " \n",
    "\n",
    "    \n",
    "   </p>"
   ]
  },
  {
   "cell_type": "code",
   "execution_count": 2,
   "id": "ba358682",
   "metadata": {
    "execution": {
     "iopub.execute_input": "2023-01-03T12:26:37.045422Z",
     "iopub.status.busy": "2023-01-03T12:26:37.045007Z",
     "iopub.status.idle": "2023-01-03T12:26:37.077086Z",
     "shell.execute_reply": "2023-01-03T12:26:37.076134Z"
    },
    "papermill": {
     "duration": 0.039988,
     "end_time": "2023-01-03T12:26:37.079707",
     "exception": false,
     "start_time": "2023-01-03T12:26:37.039719",
     "status": "completed"
    },
    "tags": []
   },
   "outputs": [],
   "source": [
    "bank_data = pd.read_csv(\"/kaggle/input/bank-recovery-data/bank_recovery_data.csv\")"
   ]
  },
  {
   "cell_type": "code",
   "execution_count": 3,
   "id": "280c0120",
   "metadata": {
    "execution": {
     "iopub.execute_input": "2023-01-03T12:26:37.089758Z",
     "iopub.status.busy": "2023-01-03T12:26:37.089092Z",
     "iopub.status.idle": "2023-01-03T12:26:37.117713Z",
     "shell.execute_reply": "2023-01-03T12:26:37.116478Z"
    },
    "papermill": {
     "duration": 0.036728,
     "end_time": "2023-01-03T12:26:37.120504",
     "exception": false,
     "start_time": "2023-01-03T12:26:37.083776",
     "status": "completed"
    },
    "tags": []
   },
   "outputs": [
    {
     "data": {
      "text/html": [
       "<div>\n",
       "<style scoped>\n",
       "    .dataframe tbody tr th:only-of-type {\n",
       "        vertical-align: middle;\n",
       "    }\n",
       "\n",
       "    .dataframe tbody tr th {\n",
       "        vertical-align: top;\n",
       "    }\n",
       "\n",
       "    .dataframe thead th {\n",
       "        text-align: right;\n",
       "    }\n",
       "</style>\n",
       "<table border=\"1\" class=\"dataframe\">\n",
       "  <thead>\n",
       "    <tr style=\"text-align: right;\">\n",
       "      <th></th>\n",
       "      <th>id</th>\n",
       "      <th>expected_recovery_amount</th>\n",
       "      <th>actual_recovery_amount</th>\n",
       "      <th>recovery_strategy</th>\n",
       "      <th>age</th>\n",
       "      <th>sex</th>\n",
       "    </tr>\n",
       "  </thead>\n",
       "  <tbody>\n",
       "    <tr>\n",
       "      <th>0</th>\n",
       "      <td>2030</td>\n",
       "      <td>194</td>\n",
       "      <td>263.540</td>\n",
       "      <td>Level 0 Recovery</td>\n",
       "      <td>19</td>\n",
       "      <td>Male</td>\n",
       "    </tr>\n",
       "    <tr>\n",
       "      <th>1</th>\n",
       "      <td>1150</td>\n",
       "      <td>486</td>\n",
       "      <td>416.090</td>\n",
       "      <td>Level 0 Recovery</td>\n",
       "      <td>25</td>\n",
       "      <td>Female</td>\n",
       "    </tr>\n",
       "    <tr>\n",
       "      <th>2</th>\n",
       "      <td>380</td>\n",
       "      <td>527</td>\n",
       "      <td>429.350</td>\n",
       "      <td>Level 0 Recovery</td>\n",
       "      <td>27</td>\n",
       "      <td>Male</td>\n",
       "    </tr>\n",
       "    <tr>\n",
       "      <th>3</th>\n",
       "      <td>1838</td>\n",
       "      <td>536</td>\n",
       "      <td>296.990</td>\n",
       "      <td>Level 0 Recovery</td>\n",
       "      <td>25</td>\n",
       "      <td>Male</td>\n",
       "    </tr>\n",
       "    <tr>\n",
       "      <th>4</th>\n",
       "      <td>1995</td>\n",
       "      <td>541</td>\n",
       "      <td>346.385</td>\n",
       "      <td>Level 0 Recovery</td>\n",
       "      <td>34</td>\n",
       "      <td>Male</td>\n",
       "    </tr>\n",
       "  </tbody>\n",
       "</table>\n",
       "</div>"
      ],
      "text/plain": [
       "     id  expected_recovery_amount  actual_recovery_amount recovery_strategy  \\\n",
       "0  2030                       194                 263.540  Level 0 Recovery   \n",
       "1  1150                       486                 416.090  Level 0 Recovery   \n",
       "2   380                       527                 429.350  Level 0 Recovery   \n",
       "3  1838                       536                 296.990  Level 0 Recovery   \n",
       "4  1995                       541                 346.385  Level 0 Recovery   \n",
       "\n",
       "   age     sex  \n",
       "0   19    Male  \n",
       "1   25  Female  \n",
       "2   27    Male  \n",
       "3   25    Male  \n",
       "4   34    Male  "
      ]
     },
     "execution_count": 3,
     "metadata": {},
     "output_type": "execute_result"
    }
   ],
   "source": [
    "#Basic df checking\n",
    "bank_data.head()"
   ]
  },
  {
   "cell_type": "code",
   "execution_count": 4,
   "id": "32e03b6b",
   "metadata": {
    "execution": {
     "iopub.execute_input": "2023-01-03T12:26:37.130557Z",
     "iopub.status.busy": "2023-01-03T12:26:37.130141Z",
     "iopub.status.idle": "2023-01-03T12:26:37.140201Z",
     "shell.execute_reply": "2023-01-03T12:26:37.139151Z"
    },
    "papermill": {
     "duration": 0.017893,
     "end_time": "2023-01-03T12:26:37.142699",
     "exception": false,
     "start_time": "2023-01-03T12:26:37.124806",
     "status": "completed"
    },
    "tags": []
   },
   "outputs": [
    {
     "data": {
      "text/plain": [
       "id                          0\n",
       "expected_recovery_amount    0\n",
       "actual_recovery_amount      0\n",
       "recovery_strategy           0\n",
       "age                         0\n",
       "sex                         0\n",
       "dtype: int64"
      ]
     },
     "execution_count": 4,
     "metadata": {},
     "output_type": "execute_result"
    }
   ],
   "source": [
    "#Checking for NaN\n",
    "bank_data.isnull().sum().sort_values()"
   ]
  },
  {
   "cell_type": "code",
   "execution_count": 5,
   "id": "f1d726bb",
   "metadata": {
    "execution": {
     "iopub.execute_input": "2023-01-03T12:26:37.153209Z",
     "iopub.status.busy": "2023-01-03T12:26:37.152313Z",
     "iopub.status.idle": "2023-01-03T12:26:37.176178Z",
     "shell.execute_reply": "2023-01-03T12:26:37.175021Z"
    },
    "papermill": {
     "duration": 0.03204,
     "end_time": "2023-01-03T12:26:37.179063",
     "exception": false,
     "start_time": "2023-01-03T12:26:37.147023",
     "status": "completed"
    },
    "tags": []
   },
   "outputs": [
    {
     "name": "stdout",
     "output_type": "stream",
     "text": [
      "<class 'pandas.core.frame.DataFrame'>\n",
      "RangeIndex: 1882 entries, 0 to 1881\n",
      "Data columns (total 6 columns):\n",
      " #   Column                    Non-Null Count  Dtype  \n",
      "---  ------                    --------------  -----  \n",
      " 0   id                        1882 non-null   int64  \n",
      " 1   expected_recovery_amount  1882 non-null   int64  \n",
      " 2   actual_recovery_amount    1882 non-null   float64\n",
      " 3   recovery_strategy         1882 non-null   object \n",
      " 4   age                       1882 non-null   int64  \n",
      " 5   sex                       1882 non-null   object \n",
      "dtypes: float64(1), int64(3), object(2)\n",
      "memory usage: 88.3+ KB\n"
     ]
    }
   ],
   "source": [
    "#Checking info(metadata) for df\n",
    "bank_data.info()\n",
    "#Note: Column \"sex\"& \"recovery_strategy\" can be converted here with pd.get_dummies() into binary for ML models "
   ]
  },
  {
   "cell_type": "code",
   "execution_count": 6,
   "id": "efd11b41",
   "metadata": {
    "execution": {
     "iopub.execute_input": "2023-01-03T12:26:37.189849Z",
     "iopub.status.busy": "2023-01-03T12:26:37.188845Z",
     "iopub.status.idle": "2023-01-03T12:26:37.219793Z",
     "shell.execute_reply": "2023-01-03T12:26:37.218562Z"
    },
    "papermill": {
     "duration": 0.038902,
     "end_time": "2023-01-03T12:26:37.222322",
     "exception": false,
     "start_time": "2023-01-03T12:26:37.183420",
     "status": "completed"
    },
    "tags": []
   },
   "outputs": [
    {
     "data": {
      "text/html": [
       "<div>\n",
       "<style scoped>\n",
       "    .dataframe tbody tr th:only-of-type {\n",
       "        vertical-align: middle;\n",
       "    }\n",
       "\n",
       "    .dataframe tbody tr th {\n",
       "        vertical-align: top;\n",
       "    }\n",
       "\n",
       "    .dataframe thead th {\n",
       "        text-align: right;\n",
       "    }\n",
       "</style>\n",
       "<table border=\"1\" class=\"dataframe\">\n",
       "  <thead>\n",
       "    <tr style=\"text-align: right;\">\n",
       "      <th></th>\n",
       "      <th>id</th>\n",
       "      <th>expected_recovery_amount</th>\n",
       "      <th>actual_recovery_amount</th>\n",
       "      <th>recovery_strategy</th>\n",
       "      <th>age</th>\n",
       "      <th>sex</th>\n",
       "    </tr>\n",
       "  </thead>\n",
       "  <tbody>\n",
       "    <tr>\n",
       "      <th>count</th>\n",
       "      <td>1882.000000</td>\n",
       "      <td>1882.000000</td>\n",
       "      <td>1882.000000</td>\n",
       "      <td>1882</td>\n",
       "      <td>1882.000000</td>\n",
       "      <td>1882</td>\n",
       "    </tr>\n",
       "    <tr>\n",
       "      <th>unique</th>\n",
       "      <td>NaN</td>\n",
       "      <td>NaN</td>\n",
       "      <td>NaN</td>\n",
       "      <td>5</td>\n",
       "      <td>NaN</td>\n",
       "      <td>2</td>\n",
       "    </tr>\n",
       "    <tr>\n",
       "      <th>top</th>\n",
       "      <td>NaN</td>\n",
       "      <td>NaN</td>\n",
       "      <td>NaN</td>\n",
       "      <td>Level 1 Recovery</td>\n",
       "      <td>NaN</td>\n",
       "      <td>Male</td>\n",
       "    </tr>\n",
       "    <tr>\n",
       "      <th>freq</th>\n",
       "      <td>NaN</td>\n",
       "      <td>NaN</td>\n",
       "      <td>NaN</td>\n",
       "      <td>670</td>\n",
       "      <td>NaN</td>\n",
       "      <td>973</td>\n",
       "    </tr>\n",
       "    <tr>\n",
       "      <th>mean</th>\n",
       "      <td>1035.596174</td>\n",
       "      <td>2759.967588</td>\n",
       "      <td>4000.967837</td>\n",
       "      <td>NaN</td>\n",
       "      <td>39.650372</td>\n",
       "      <td>NaN</td>\n",
       "    </tr>\n",
       "    <tr>\n",
       "      <th>std</th>\n",
       "      <td>591.458429</td>\n",
       "      <td>2019.826565</td>\n",
       "      <td>4576.506350</td>\n",
       "      <td>NaN</td>\n",
       "      <td>15.453072</td>\n",
       "      <td>NaN</td>\n",
       "    </tr>\n",
       "    <tr>\n",
       "      <th>min</th>\n",
       "      <td>6.000000</td>\n",
       "      <td>194.000000</td>\n",
       "      <td>200.425000</td>\n",
       "      <td>NaN</td>\n",
       "      <td>18.000000</td>\n",
       "      <td>NaN</td>\n",
       "    </tr>\n",
       "    <tr>\n",
       "      <th>25%</th>\n",
       "      <td>534.250000</td>\n",
       "      <td>1261.250000</td>\n",
       "      <td>1045.190300</td>\n",
       "      <td>NaN</td>\n",
       "      <td>28.000000</td>\n",
       "      <td>NaN</td>\n",
       "    </tr>\n",
       "    <tr>\n",
       "      <th>50%</th>\n",
       "      <td>1029.500000</td>\n",
       "      <td>2062.000000</td>\n",
       "      <td>2115.446373</td>\n",
       "      <td>NaN</td>\n",
       "      <td>35.000000</td>\n",
       "      <td>NaN</td>\n",
       "    </tr>\n",
       "    <tr>\n",
       "      <th>75%</th>\n",
       "      <td>1551.750000</td>\n",
       "      <td>3569.500000</td>\n",
       "      <td>5417.237207</td>\n",
       "      <td>NaN</td>\n",
       "      <td>50.000000</td>\n",
       "      <td>NaN</td>\n",
       "    </tr>\n",
       "    <tr>\n",
       "      <th>max</th>\n",
       "      <td>2056.000000</td>\n",
       "      <td>9964.000000</td>\n",
       "      <td>34398.479710</td>\n",
       "      <td>NaN</td>\n",
       "      <td>84.000000</td>\n",
       "      <td>NaN</td>\n",
       "    </tr>\n",
       "  </tbody>\n",
       "</table>\n",
       "</div>"
      ],
      "text/plain": [
       "                 id  expected_recovery_amount  actual_recovery_amount  \\\n",
       "count   1882.000000               1882.000000             1882.000000   \n",
       "unique          NaN                       NaN                     NaN   \n",
       "top             NaN                       NaN                     NaN   \n",
       "freq            NaN                       NaN                     NaN   \n",
       "mean    1035.596174               2759.967588             4000.967837   \n",
       "std      591.458429               2019.826565             4576.506350   \n",
       "min        6.000000                194.000000              200.425000   \n",
       "25%      534.250000               1261.250000             1045.190300   \n",
       "50%     1029.500000               2062.000000             2115.446373   \n",
       "75%     1551.750000               3569.500000             5417.237207   \n",
       "max     2056.000000               9964.000000            34398.479710   \n",
       "\n",
       "       recovery_strategy          age   sex  \n",
       "count               1882  1882.000000  1882  \n",
       "unique                 5          NaN     2  \n",
       "top     Level 1 Recovery          NaN  Male  \n",
       "freq                 670          NaN   973  \n",
       "mean                 NaN    39.650372   NaN  \n",
       "std                  NaN    15.453072   NaN  \n",
       "min                  NaN    18.000000   NaN  \n",
       "25%                  NaN    28.000000   NaN  \n",
       "50%                  NaN    35.000000   NaN  \n",
       "75%                  NaN    50.000000   NaN  \n",
       "max                  NaN    84.000000   NaN  "
      ]
     },
     "execution_count": 6,
     "metadata": {},
     "output_type": "execute_result"
    }
   ],
   "source": [
    "#Checking basic Statistics of data with all columns\n",
    "bank_data.describe(include='all') #ignore NaN for Column \"sex\"& \"recovery_strategy\" as currently srtings(object)data\n",
    "#just for unique value is used describe(include='all'), other method can be to use .unique()"
   ]
  },
  {
   "cell_type": "markdown",
   "id": "b54a077a",
   "metadata": {
    "papermill": {
     "duration": 0.004373,
     "end_time": "2023-01-03T12:26:37.231397",
     "exception": false,
     "start_time": "2023-01-03T12:26:37.227024",
     "status": "completed"
    },
    "tags": []
   },
   "source": [
    "<p style=\"width: 700px;padding: 20px;background: papayawhip;border-radius:10px;font-size:18px;border-radius:20px\"><b>Graphical exploratory data analysis</b>\n",
    "\n",
    " \n",
    "\n",
    "    \n",
    "   </p>"
   ]
  },
  {
   "cell_type": "markdown",
   "id": "2d75d936",
   "metadata": {
    "papermill": {
     "duration": 0.004186,
     "end_time": "2023-01-03T12:26:37.240135",
     "exception": false,
     "start_time": "2023-01-03T12:26:37.235949",
     "status": "completed"
    },
    "tags": []
   },
   "source": [
    "<p style=\"width: 700px;padding: 20px;background: papayawhip;border-radius:10px;font-size:17px;border-radius:20px\">\n",
    "&#8226;The bank has implemented different recovery strategies at different thresholds ($1000, $2000, $3000 and $5000) where the greater the Expected Recovery Amount, the more effort the bank puts into contacting the customer. Zeroing in on the first transition (between Level 0 and Level 1) means we are focused on the population with Expected Recovery Amounts between $0 and $2000 where the transition between Levels occurred at $1000.\n",
    " \n",
    " </p>\n",
    "\n",
    "\n",
    " "
   ]
  },
  {
   "cell_type": "markdown",
   "id": "58da2945",
   "metadata": {
    "papermill": {
     "duration": 0.004116,
     "end_time": "2023-01-03T12:26:37.248778",
     "exception": false,
     "start_time": "2023-01-03T12:26:37.244662",
     "status": "completed"
    },
    "tags": []
   },
   "source": [
    " <p style=\"width: 700px;padding: 20px;background: papayawhip;border-radius:10px;font-size:18px;border-radius:20px\">We know that the customers in Level 1(expected recovery amounts between $1001 and $2000) received more attention from the bank and, by definition, they had higher Expected Recovery Amounts than the customers in Level 0 (between $1 and $1000).\n",
    "    <br><br>Here's a quick summary of the Levels and thresholds again:\n",
    "<br>&#8226;Level 0: Expected recovery amounts >$0 and <=$1000\n",
    "<br>&#8226;Level 1: Expected recovery amounts >$1000 and <=$2000\n",
    "<br>&#8226;The threshold of $1000 separates Level 0 from Level 1\n",
    "\n",
    "</p>"
   ]
  },
  {
   "cell_type": "code",
   "execution_count": null,
   "id": "4f8cbdfc",
   "metadata": {
    "papermill": {
     "duration": 0.004043,
     "end_time": "2023-01-03T12:26:37.257136",
     "exception": false,
     "start_time": "2023-01-03T12:26:37.253093",
     "status": "completed"
    },
    "tags": []
   },
   "outputs": [],
   "source": []
  }
 ],
 "metadata": {
  "kernelspec": {
   "display_name": "Python 3",
   "language": "python",
   "name": "python3"
  },
  "language_info": {
   "codemirror_mode": {
    "name": "ipython",
    "version": 3
   },
   "file_extension": ".py",
   "mimetype": "text/x-python",
   "name": "python",
   "nbconvert_exporter": "python",
   "pygments_lexer": "ipython3",
   "version": "3.7.12"
  },
  "papermill": {
   "default_parameters": {},
   "duration": 11.810177,
   "end_time": "2023-01-03T12:26:37.985260",
   "environment_variables": {},
   "exception": null,
   "input_path": "__notebook__.ipynb",
   "output_path": "__notebook__.ipynb",
   "parameters": {},
   "start_time": "2023-01-03T12:26:26.175083",
   "version": "2.3.4"
  }
 },
 "nbformat": 4,
 "nbformat_minor": 5
}
