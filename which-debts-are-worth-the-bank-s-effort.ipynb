{
 "cells": [
  {
   "cell_type": "markdown",
   "id": "8e61d11d",
   "metadata": {
    "papermill": {
     "duration": 0.003167,
     "end_time": "2023-01-01T10:25:42.466241",
     "exception": false,
     "start_time": "2023-01-01T10:25:42.463074",
     "status": "completed"
    },
    "tags": []
   },
   "source": [
    "<div style=\"color:white;\n",
    "           display:fill;\n",
    "           border-radius:20px;\n",
    "           background-color:#F5DEB3;\n",
    "           font-size:180%;\n",
    "           font-family:Helvetica, Sans-Serif;\n",
    "           letter-spacing:0.5px\">\n",
    "<p style=\"padding: 10px;\n",
    "          text-align: center;\n",
    "          font-size:150%;\n",
    "          color:blue;\">\n",
    "           🏦💵Which Debts Are Worth the Bank's Effort?🏧💱\n",
    "            \n",
    "</p>\n",
    "<style>\n",
    "        h1{text-align: center;}\n",
    " </style>  \n",
    "    \n",
    "</div>"
   ]
  },
  {
   "cell_type": "markdown",
   "id": "4313b3e9",
   "metadata": {
    "papermill": {
     "duration": 0.001651,
     "end_time": "2023-01-01T10:25:42.470131",
     "exception": false,
     "start_time": "2023-01-01T10:25:42.468480",
     "status": "completed"
    },
    "tags": []
   },
   "source": [
    "<p style=\"font-family:cursive; font-size:25px; color:'darkcyan';\">I brewed this notebook from scratch, If this notebook helped, please consider upvoting and cite me if sharing on other platforms.</p>\n",
    "\n",
    "\n",
    "<p style=\"width: 700px;padding: 20px;background: papayawhip;border-radius:10px;font-size:23px;font-size:23px;border-radius:20px\">\n",
    "    <a href=\"https://www.linkedin.com/in/tusharaggarwalinseec/\" target=\"_blank\">Lets connect on LinkedIn!</a>\n",
    "    \n",
    "   </p>\n",
    "<p style=\"width: 700px;padding: 20px;background: papayawhip;border-radius:10px;font-size:23px;border-radius:20px\">\n",
    "<a href=\"https://github.com/tushar2704\" target=\"_blank\">Follow me on Github too!</a> </p>\n",
    "\n",
    "<p style=\"width: 700px;padding: 20px;background: papayawhip;border-radius:10px;font-size:23px;border-radius:20px\">\n",
    "    <a href=\"https://medium.com/@tushar_aggarwal\" target=\"_blank\">Also checkout my Medium posts!</a>\n",
    "    \n",
    "   </p>"
   ]
  },
  {
   "cell_type": "markdown",
   "id": "c0f21ff2",
   "metadata": {
    "papermill": {
     "duration": 0.001603,
     "end_time": "2023-01-01T10:25:42.473651",
     "exception": false,
     "start_time": "2023-01-01T10:25:42.472048",
     "status": "completed"
    },
    "tags": []
   },
   "source": [
    "\n",
    "<div class=\"alert alert-info\" role=\"alert\" style=\"font-size:17px;border-radius:20px\">\n",
    "    <b>Regression discontinuity: banking recovery</b>\n",
    "    \n",
    "</div>\n",
    "<div class=\"alert alert-info\" role=\"alert\" style=\"font-size:15px;border-radius:20px\">\n",
    "    <b>Some things to note:</b>\n",
    "    <br><br>After a debt has been legally declared \"uncollectable\" by a bank, the account is considered to be \"charged-off.\" But that doesn't mean the bank simply walks away from the debt. They still want to collect some of the money they are owed.\n",
    "    <br><br>\n",
    "    In this project, we'll look at a situation where a bank assigned delinquent customers to different recovery strategies based on the expected amount the bank believed it would recover from the customer. The goal for us is to determine in this non-random assignment whether the incremental amount the bank earns exceeded the additional cost of assigning customers to a higher recovery strategy.\n",
    "    <br></br>\n",
    "    Regression discontinuity is an intuitive and useful analysis method in any situation of a threshold assignment.\n",
    "</div>"
   ]
  },
  {
   "cell_type": "markdown",
   "id": "0169b7b6",
   "metadata": {
    "papermill": {
     "duration": 0.001562,
     "end_time": "2023-01-01T10:25:42.477057",
     "exception": false,
     "start_time": "2023-01-01T10:25:42.475495",
     "status": "completed"
    },
    "tags": []
   },
   "source": [
    "<p style=\"width: 700px;padding: 20px;background: papayawhip;border-radius:10px;font-size:17px;border-radius:20px\">\n",
    "To represent distributions in Python, we will use a library called `empiricaldist`, for \"empirical distribution\", which means it is based on data rather than a mathematical formula.\n",
    "    <br><br>\n",
    "    The following cell checks whether `empiricaldist` is installed and installs it if necessary.\n",
    "    \n",
    "   </p>\n"
   ]
  },
  {
   "cell_type": "code",
   "execution_count": null,
   "id": "98b4fac1",
   "metadata": {
    "papermill": {
     "duration": 0.001566,
     "end_time": "2023-01-01T10:25:42.480410",
     "exception": false,
     "start_time": "2023-01-01T10:25:42.478844",
     "status": "completed"
    },
    "tags": []
   },
   "outputs": [],
   "source": []
  }
 ],
 "metadata": {
  "kernelspec": {
   "display_name": "Python 3",
   "language": "python",
   "name": "python3"
  },
  "language_info": {
   "codemirror_mode": {
    "name": "ipython",
    "version": 3
   },
   "file_extension": ".py",
   "mimetype": "text/x-python",
   "name": "python",
   "nbconvert_exporter": "python",
   "pygments_lexer": "ipython3",
   "version": "3.7.12"
  },
  "papermill": {
   "default_parameters": {},
   "duration": 9.871295,
   "end_time": "2023-01-01T10:25:43.104299",
   "environment_variables": {},
   "exception": null,
   "input_path": "__notebook__.ipynb",
   "output_path": "__notebook__.ipynb",
   "parameters": {},
   "start_time": "2023-01-01T10:25:33.233004",
   "version": "2.3.4"
  }
 },
 "nbformat": 4,
 "nbformat_minor": 5
}
