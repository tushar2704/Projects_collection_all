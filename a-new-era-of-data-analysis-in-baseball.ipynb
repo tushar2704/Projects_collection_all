{
 "cells": [
  {
   "cell_type": "markdown",
   "id": "1ba69f60",
   "metadata": {
    "papermill": {
     "duration": 0.002653,
     "end_time": "2022-12-02T09:48:20.813955",
     "exception": false,
     "start_time": "2022-12-02T09:48:20.811302",
     "status": "completed"
    },
    "tags": []
   },
   "source": [
    "**In this notebook, we're going to wrangle, analyze, and visualize Statcast data to compare Mr. Judge and another (extremely large) teammate of his. Let's start by loading the data into our Notebook. There are two CSV files, judge.csv and stanton.csv, both of which contain Statcast data for 2015-2017. We'll use pandas DataFrames to store this data. Let's also load our data visualization libraries, matplotlib and seaborn.**"
   ]
  },
  {
   "cell_type": "code",
   "execution_count": null,
   "id": "c77e2a8d",
   "metadata": {
    "papermill": {
     "duration": 0.001154,
     "end_time": "2022-12-02T09:48:20.816702",
     "exception": false,
     "start_time": "2022-12-02T09:48:20.815548",
     "status": "completed"
    },
    "tags": []
   },
   "outputs": [],
   "source": []
  }
 ],
 "metadata": {
  "kernelspec": {
   "display_name": "Python 3",
   "language": "python",
   "name": "python3"
  },
  "language_info": {
   "codemirror_mode": {
    "name": "ipython",
    "version": 3
   },
   "file_extension": ".py",
   "mimetype": "text/x-python",
   "name": "python",
   "nbconvert_exporter": "python",
   "pygments_lexer": "ipython3",
   "version": "3.7.12"
  },
  "papermill": {
   "default_parameters": {},
   "duration": 9.627603,
   "end_time": "2022-12-02T09:48:21.541303",
   "environment_variables": {},
   "exception": null,
   "input_path": "__notebook__.ipynb",
   "output_path": "__notebook__.ipynb",
   "parameters": {},
   "start_time": "2022-12-02T09:48:11.913700",
   "version": "2.3.4"
  }
 },
 "nbformat": 4,
 "nbformat_minor": 5
}
